{
 "cells": [
  {
   "cell_type": "markdown",
   "id": "5cb066aa-3521-4799-99cc-c4efb012a6e2",
   "metadata": {},
   "source": [
    "***\n",
    "\n",
    "# The numpy.random package\n",
    "\n",
    "***\n",
    "https://numpy.org/doc/stable/docs/index.html"
   ]
  },
  {
   "cell_type": "markdown",
   "id": "103ca69f-99c1-4ac6-936d-5e11837de132",
   "metadata": {},
   "source": [
    "### What is Numpy?"
   ]
  },
  {
   "cell_type": "markdown",
   "id": "d0a7bbf5-039d-4998-a57f-17a123eaf124",
   "metadata": {},
   "source": [
    "NumPy, which is short for Numerical Python,  is an open source project created in 2005 by Travis Oliphant. In Python, Numpy is the fundamental library in scientific computing [1]. It forms the foundations that some of the most important data analytics (pandas) and machine learning (scikit-learn) deploy.\n",
    "At the core of Numpy are multidimensional array object (ndarry). It also provides various derived objects (e.g. masked arrays and matrices), and an assortment of routines for fast operations on arrays, including mathematical, logical, shape manipulation, sorting, selecting, I/O, discrete Fourier transforms, basic linear algebra, basic) statistical operations, random simulation and much more [2].\n",
    "\n",
    "###### Arrays\n",
    "\n",
    "- An array class is called as ndarray\n",
    "- The data in an ndarray must be homogeneous, i.e. all elemets contained in it must be the same type.\n",
    "- They have a dtype attribute which is an object that describes the data type of the array.\n",
    "- Size = the total number of elements an array contains. \n",
    "- A tuple of integers giving the size of the array along each dimension is known as shape of the array.\n",
    "- Elements in Numpy arrays are accessed by using square brackets and can be initialized by using nested Python Lists\n",
    "- Arrays have a ndim attribute for the number of axes or dimensions of the array [4].\n"
   ]
  },
  {
   "cell_type": "markdown",
   "id": "f8850610-4434-4ca8-b666-b731ba948d0a",
   "metadata": {},
   "source": [
    "##### Why Use NumPy?\n"
   ]
  },
  {
   "cell_type": "markdown",
   "id": "3db95e64-210f-4546-bc4f-9cc25e37db6a",
   "metadata": {},
   "source": [
    "NumPy arrays are stored in one continuous place in memory unlike Python lists, this makes accessing and manipulate much more efficent. This is incredibly important when working with large amounts of data. Array's also provide many more methods and functions which make working with them \"easier\".\n",
    "\n",
    "The advantages of using Numpy:\n",
    "- Speed: NumPy uses algorithms written in C that complete in nanoseconds rather than seconds.\n",
    "- Fewer loops: NumPy helps you to reduce loops and keep from getting tangled up in iteration indices.\n",
    "- Clearer code: Without loops, your code will look more like the equations you’re trying to calculate.\n",
    "- Better quality: There are thousands of contributors working to keep NumPy fast, friendly, and bug free. [3]"
   ]
  },
  {
   "cell_type": "code",
   "execution_count": 1,
   "id": "f9e050b4-d655-4d75-bbf9-6853b812f125",
   "metadata": {},
   "outputs": [],
   "source": [
    "### Importing the libary\n",
    "import numpy as np\n",
    "\n",
    "# Plotting\n",
    "import matplotlib.pyplot as plt\n",
    "\n"
   ]
  },
  {
   "cell_type": "markdown",
   "id": "5bf110b2-ca23-431a-a221-fb2d7b933872",
   "metadata": {},
   "source": [
    "### What is numpy.random?\n",
    "https://numpy.org/doc/stable/reference/random/index.html#:~:text=Random%20sampling%20(%20numpy.-,random%20),Objects%20that%20generate%20random%20numbers.\n"
   ]
  },
  {
   "cell_type": "markdown",
   "id": "57c8ba3b-3adf-4bfb-b24d-c86ca384cb4c",
   "metadata": {
    "tags": []
   },
   "source": [
    "Randomness has many uses in science, art, statistics, cryptography, gaming, gambling, and other fields. For example, random assignment in randomized controlled trials helps scientists to test hypotheses, and random numbers or pseudorandom numbers help video games such as video poker. Many elements of statistical practice depend on randomness via random numbers. Where those random numbers fail to be actually random, any subsequent statistical analysis may suffer from systematic bias. Elements of statistical practice that depend on randomness include: choosing a representative sample of the population being examined,[7]\n",
    "\n",
    "Random number does NOT mean a different number every time. Random means something that can not be predicted logically. numpy.random is a module in the numpy library used for arrays. [5 ]\n",
    "Numpy.random is used to create arrays of random numbers . The reason we use this “fake data'' is that it enables people to test before working with real data. It can efficiently generate arrays of sample values from many kinds of probability distributions [6.]\n",
    "\n",
    "Python has a random module, which allows for the generation of single random numbers with a few basic distributions. numpy.random has much more functionability; allowing the genration of whole arrays of random numbers, ways to work with these arrays and allows for a wider selection of probability distributions.\n",
    "\n",
    "numpy.random can be broken into:\n",
    "- Simple random data\n",
    "- Permutations\n",
    "- Distribution\n",
    "<br></br>https://numpy.org/doc/stable/reference/random/generator.html#numpy.random.Generator"
   ]
  },
  {
   "cell_type": "markdown",
   "id": "4c77a82a-8aeb-4a2a-bd69-c2cf22b7e909",
   "metadata": {
    "tags": []
   },
   "source": [
    " ***\n",
    " ### Simple Random Data\n",
    " ***\n"
   ]
  },
  {
   "cell_type": "markdown",
   "id": "99dd7af8-2336-4807-9b2f-bba26d84630c",
   "metadata": {},
   "source": [
    "#### random.randint\n",
    " An array of specified shape filled with random integers from low (inclusive) to high (exclusive)."
   ]
  },
  {
   "cell_type": "code",
   "execution_count": 2,
   "id": "1f559416-dd38-4c03-8aad-75b7e9c86210",
   "metadata": {
    "tags": []
   },
   "outputs": [
    {
     "data": {
      "text/plain": [
       "58"
      ]
     },
     "execution_count": 2,
     "metadata": {},
     "output_type": "execute_result"
    }
   ],
   "source": [
    "# A Random intergr between 0 and 4\n",
    "np.random.randint(100) "
   ]
  },
  {
   "cell_type": "code",
   "execution_count": 3,
   "id": "497cc8ad-86f5-4227-8035-360e55428acf",
   "metadata": {},
   "outputs": [
    {
     "data": {
      "text/plain": [
       "3"
      ]
     },
     "execution_count": 3,
     "metadata": {},
     "output_type": "execute_result"
    }
   ],
   "source": [
    "# A random intergr between low 0 and 10 (exculsive).\n",
    "np.random.randint(0,10)"
   ]
  },
  {
   "cell_type": "code",
   "execution_count": 4,
   "id": "e17d2808-89a3-4038-9af2-f4ada7d5e2b2",
   "metadata": {},
   "outputs": [
    {
     "data": {
      "text/plain": [
       "-4"
      ]
     },
     "execution_count": 4,
     "metadata": {},
     "output_type": "execute_result"
    }
   ],
   "source": [
    "# A random intergr between low -10 and 10 (exculsive)\n",
    "np.random.randint(-10, 10)"
   ]
  },
  {
   "cell_type": "code",
   "execution_count": 5,
   "id": "738a0533-e73c-423f-ab31-842dae4fe446",
   "metadata": {},
   "outputs": [
    {
     "data": {
      "text/plain": [
       "array([8, 3, 7, 5, 4])"
      ]
     },
     "execution_count": 5,
     "metadata": {},
     "output_type": "execute_result"
    }
   ],
   "source": [
    "# An array of 5 random intergrs between 0 (low) and 10 (exculsive).\n",
    "np.random.randint(0, 10, 5)"
   ]
  },
  {
   "cell_type": "markdown",
   "id": "f89cf79b-13ec-4bb7-9af0-a51576034b96",
   "metadata": {},
   "source": [
    "The above is a 1D array. numpy.random also allows us to make more dimensional arrays. See examples below"
   ]
  },
  {
   "cell_type": "code",
   "execution_count": 6,
   "id": "a93dbba8-0b58-46ef-8b96-6abbf8c576d6",
   "metadata": {},
   "outputs": [
    {
     "data": {
      "text/plain": [
       "array([[1, 1],\n",
       "       [1, 1]])"
      ]
     },
     "execution_count": 6,
     "metadata": {},
     "output_type": "execute_result"
    }
   ],
   "source": [
    "# 2D array of random intergers \n",
    "np.random.randint(low=2, size=(2,2))"
   ]
  },
  {
   "cell_type": "code",
   "execution_count": 7,
   "id": "62864a13-1adf-45b8-8d93-bd1e96233221",
   "metadata": {},
   "outputs": [
    {
     "data": {
      "text/plain": [
       "array([[[4, 3],\n",
       "        [4, 1]],\n",
       "\n",
       "       [[2, 0],\n",
       "        [0, 1]]])"
      ]
     },
     "execution_count": 7,
     "metadata": {},
     "output_type": "execute_result"
    }
   ],
   "source": [
    "# 3D array of random numbers\n",
    "np.random.randint(0, 5, (2, 2, 2))"
   ]
  },
  {
   "cell_type": "markdown",
   "id": "34cdf3db-12ce-4df6-b06c-bfa41b3605b1",
   "metadata": {},
   "source": [
    "#### random.rand\n",
    "An array of a given shape of random (float) values between 0 and 1, including 0 and not 1 from a uniform distribution. The first value passed is the number of \"rows\" inthe array. The second is the amount of values each row containsAny, other arguments passed indicate the number of ndarrays. Deminsions should be posistive"
   ]
  },
  {
   "cell_type": "code",
   "execution_count": 8,
   "id": "00ef3354-297d-4edc-b35f-b2807e2a2078",
   "metadata": {},
   "outputs": [
    {
     "data": {
      "text/plain": [
       "0.3624305120415834"
      ]
     },
     "execution_count": 8,
     "metadata": {},
     "output_type": "execute_result"
    }
   ],
   "source": [
    "# If no argument is given a single random Python float is returned.\n",
    "np.random.rand()"
   ]
  },
  {
   "cell_type": "code",
   "execution_count": 9,
   "id": "cda93bde-1ba4-4c1a-9ac7-e1b7479ecdba",
   "metadata": {},
   "outputs": [
    {
     "data": {
      "text/plain": [
       "array([0.46469712, 0.85524231, 0.79249464, 0.27610184])"
      ]
     },
     "execution_count": 9,
     "metadata": {},
     "output_type": "execute_result"
    }
   ],
   "source": [
    "# Generating 4 random values. 1D array\n",
    "np.random.rand(4)"
   ]
  },
  {
   "cell_type": "code",
   "execution_count": 10,
   "id": "16b1f206-ba1d-4df7-9664-ce18f7580a0f",
   "metadata": {},
   "outputs": [
    {
     "data": {
      "text/plain": [
       "array([[0.00376628, 0.91060953, 0.80895544, 0.50773652],\n",
       "       [0.19138536, 0.52291416, 0.69675254, 0.11147352]])"
      ]
     },
     "execution_count": 10,
     "metadata": {},
     "output_type": "execute_result"
    }
   ],
   "source": [
    "# A 2D array containing 4 vaules each\n",
    "x = np.random.rand(2, 4)\n",
    "x"
   ]
  },
  {
   "cell_type": "code",
   "execution_count": 11,
   "id": "3d56be4c-c99f-4b70-9c3a-963672e51392",
   "metadata": {},
   "outputs": [
    {
     "data": {
      "text/plain": [
       "array([[0.03766279, 9.1060953 , 8.08955437, 5.07736521],\n",
       "       [1.91385361, 5.22914159, 6.96752539, 1.11473521]])"
      ]
     },
     "execution_count": 11,
     "metadata": {},
     "output_type": "execute_result"
    }
   ],
   "source": [
    "# We can manipulte the arrays. \n",
    "y = x * 10 # Multiplying each element in the array by 10.\n",
    "y"
   ]
  },
  {
   "cell_type": "code",
   "execution_count": 12,
   "id": "f9136473-85b2-4482-b74f-8f403458a0c4",
   "metadata": {},
   "outputs": [
    {
     "data": {
      "text/plain": [
       "array([[[0.54812225, 0.46212306, 0.89890162],\n",
       "        [0.15103327, 0.84760399, 0.57657154]],\n",
       "\n",
       "       [[0.82771997, 0.83161705, 0.86027323],\n",
       "        [0.72813339, 0.50714858, 0.29560017]]])"
      ]
     },
     "execution_count": 12,
     "metadata": {},
     "output_type": "execute_result"
    }
   ],
   "source": [
    "# A 3D array \n",
    "np.random.rand(2, 2, 3)"
   ]
  },
  {
   "cell_type": "code",
   "execution_count": 13,
   "id": "24f6769b-2615-4f71-8434-a6211f068cec",
   "metadata": {},
   "outputs": [
    {
     "data": {
      "text/plain": [
       "(array([ 9970.,  9970., 10142., 10194., 10058.,  9805., 10041.,  9966.,\n",
       "         9940.,  9914.]),\n",
       " array([5.77630336e-06, 1.00004116e-01, 2.00002455e-01, 3.00000794e-01,\n",
       "        3.99999133e-01, 4.99997473e-01, 5.99995812e-01, 6.99994151e-01,\n",
       "        7.99992490e-01, 8.99990830e-01, 9.99989169e-01]),\n",
       " <BarContainer object of 10 artists>)"
      ]
     },
     "execution_count": 13,
     "metadata": {},
     "output_type": "execute_result"
    },
    {
     "data": {
      "image/png": "[encoded data removed]",
      "text/plain": [
       "<Figure size 432x288 with 1 Axes>"
      ]
     },
     "metadata": {
      "needs_background": "light"
     },
     "output_type": "display_data"
    }
   ],
   "source": [
    "# Plotting a histogram to show the uniform distribution\n",
    "hist_plot = np.random.rand(100000)\n",
    "plt.hist(hist_plot)"
   ]
  },
  {
   "cell_type": "markdown",
   "id": "1044e112-2aa3-49c8-8abd-b5e96888cb2e",
   "metadata": {},
   "source": [
    "The histogram shows a uniform (rectangule) distribution. There spread of elements in each bin are similar in number.  If a smaller number was chosen the uniform shape would be less evident. See the histogram below"
   ]
  },
  {
   "cell_type": "code",
   "execution_count": 14,
   "id": "db0fd7af-3173-45db-9a67-66d5dbc9ff21",
   "metadata": {},
   "outputs": [
    {
     "data": {
      "text/plain": [
       "(array([10., 11., 11.,  8.,  9.,  6., 12., 12.,  9., 12.]),\n",
       " array([0.01842699, 0.11372432, 0.20902165, 0.30431898, 0.39961631,\n",
       "        0.49491364, 0.59021097, 0.6855083 , 0.78080563, 0.87610296,\n",
       "        0.97140029]),\n",
       " <BarContainer object of 10 artists>)"
      ]
     },
     "execution_count": 14,
     "metadata": {},
     "output_type": "execute_result"
    },
    {
     "data": {
      "image/png": "[encoded data removed]",
      "text/plain": [
       "<Figure size 432x288 with 1 Axes>"
      ]
     },
     "metadata": {
      "needs_background": "light"
     },
     "output_type": "display_data"
    }
   ],
   "source": [
    "h = np.random.rand(100)\n",
    "plt.hist(h)"
   ]
  },
  {
   "cell_type": "markdown",
   "id": "ff00bc8b-3392-445c-a9ef-5caa6da43f0b",
   "metadata": {},
   "source": [
    "#### random.randn\n",
    "While random.rand is for the uniform distribution  (in the half-open interval [0.0, 1.0))., random.randn is for standard normal (aka. Gaussian) distribution (mean 0 and variance 1). It generates a n-dimensional array of numbers from the standard normal distribution. \n",
    "\n",
    "https://stackoverflow.com/questions/47240308/differences-between-numpy-random-rand-vs-numpy-random-randn-in-python"
   ]
  },
  {
   "cell_type": "code",
   "execution_count": 15,
   "id": "c2eb25a9-6c88-4a5b-88f8-69d0a1bf27ff",
   "metadata": {},
   "outputs": [
    {
     "data": {
      "text/plain": [
       "-0.22714982654308144"
      ]
     },
     "execution_count": 15,
     "metadata": {},
     "output_type": "execute_result"
    }
   ],
   "source": [
    "# If no argument is given a single random Python float is returned.\n",
    "np.random.randn()"
   ]
  },
  {
   "cell_type": "code",
   "execution_count": 16,
   "id": "cd88d751-a447-4e44-85cd-a87eeb5c4b9b",
   "metadata": {},
   "outputs": [
    {
     "data": {
      "text/plain": [
       "array([ 0.29812989,  0.88771711, -0.61071805, -0.44367322])"
      ]
     },
     "execution_count": 16,
     "metadata": {},
     "output_type": "execute_result"
    }
   ],
   "source": [
    "# 1D array of 4 values\n",
    "np.random.randn(4)"
   ]
  },
  {
   "cell_type": "code",
   "execution_count": 17,
   "id": "a1082fee-b10b-4598-b604-8a56f4246d7b",
   "metadata": {},
   "outputs": [
    {
     "data": {
      "text/plain": [
       "array([[ 0.65090543,  0.60957028,  1.03260746],\n",
       "       [-0.42339183, -0.07754999,  1.95287212]])"
      ]
     },
     "execution_count": 17,
     "metadata": {},
     "output_type": "execute_result"
    }
   ],
   "source": [
    "# 2D array contain 3 values each\n",
    "np.random.randn(2, 3)"
   ]
  },
  {
   "cell_type": "code",
   "execution_count": 18,
   "id": "03e101ed-ab5d-477a-bd23-e566081edd6e",
   "metadata": {},
   "outputs": [],
   "source": [
    "x = np.random.randn(10000)"
   ]
  },
  {
   "cell_type": "code",
   "execution_count": 19,
   "id": "2f4bb3e8-9e8b-4e6d-97d0-cdbc96147762",
   "metadata": {},
   "outputs": [
    {
     "data": {
      "text/plain": [
       "(array([   9.,  102.,  501., 1643., 2938., 2850., 1439.,  451.,   56.,\n",
       "          11.]),\n",
       " array([-3.93646721, -3.13551457, -2.33456193, -1.53360928, -0.73265664,\n",
       "         0.068296  ,  0.86924865,  1.67020129,  2.47115393,  3.27210658,\n",
       "         4.07305922]),\n",
       " <BarContainer object of 10 artists>)"
      ]
     },
     "execution_count": 19,
     "metadata": {},
     "output_type": "execute_result"
    },
    {
     "data": {
      "image/png": "[encoded data removed]",
      "text/plain": [
       "<Figure size 432x288 with 1 Axes>"
      ]
     },
     "metadata": {
      "needs_background": "light"
     },
     "output_type": "display_data"
    }
   ],
   "source": [
    "plt.hist(x)"
   ]
  },
  {
   "cell_type": "markdown",
   "id": "6eef347e-d699-4412-9f95-63eb637adeb2",
   "metadata": {},
   "source": [
    "The above histogram shows a \"bell-shaped\" curve of distribution in which the probability that a random number occurring away from the centre decreases rapidly, but is never impossible."
   ]
  },
  {
   "cell_type": "markdown",
   "id": "cfbe511a-111c-414b-b624-17c0663b3edf",
   "metadata": {},
   "source": [
    "#### random.random_sample, random.sample, random.ranf\n",
    "\n",
    "All of the above functions read to have the same use i.e. returning random floats in the half open interval [0.0, 1.0]."
   ]
  },
  {
   "cell_type": "code",
   "execution_count": 20,
   "id": "d2507781-40e2-4958-ab2c-e5ad0f14df3e",
   "metadata": {
    "jp-MarkdownHeadingCollapsed": true,
    "tags": []
   },
   "outputs": [
    {
     "data": {
      "text/plain": [
       "array([0.68425219, 0.43821101, 0.87312789, 0.96130642])"
      ]
     },
     "execution_count": 20,
     "metadata": {},
     "output_type": "execute_result"
    }
   ],
   "source": [
    "np.random.random(4)"
   ]
  },
  {
   "cell_type": "code",
   "execution_count": 21,
   "id": "76c36005-53bf-43c7-a540-a03b5e3b7e1a",
   "metadata": {},
   "outputs": [
    {
     "data": {
      "text/plain": [
       "array([0.7587226 , 0.31099021, 0.75805897])"
      ]
     },
     "execution_count": 21,
     "metadata": {},
     "output_type": "execute_result"
    }
   ],
   "source": [
    "np.random.sample(3)"
   ]
  },
  {
   "cell_type": "code",
   "execution_count": 22,
   "id": "2187df3b-d739-4771-9062-b159026c3c3d",
   "metadata": {},
   "outputs": [
    {
     "data": {
      "text/plain": [
       "array([0.17950197, 0.83258292])"
      ]
     },
     "execution_count": 22,
     "metadata": {},
     "output_type": "execute_result"
    }
   ],
   "source": [
    "np.random.ranf(2)"
   ]
  },
  {
   "cell_type": "markdown",
   "id": "ecff5677-e6d6-474d-a2a1-0db95709e9c2",
   "metadata": {},
   "source": [
    "#### random.choice\n",
    "\n",
    "The random.choice method is used to get a random value from an array. It is used with one dimensional array and returns a new numpy array with randomly chosen values.\n",
    "https://www.codeleaks.io/numpy-random-choice-python/\n",
    "\n"
   ]
  },
  {
   "cell_type": "code",
   "execution_count": 23,
   "id": "987922f6-264f-472f-8ec1-820d65d753b2",
   "metadata": {},
   "outputs": [],
   "source": [
    "# Retuning a random value from an array\n",
    "matrix = ['red pill', 'blue pill']"
   ]
  },
  {
   "cell_type": "code",
   "execution_count": 24,
   "id": "739714a4-48eb-4717-8a78-e33757538077",
   "metadata": {},
   "outputs": [
    {
     "name": "stdout",
     "output_type": "stream",
     "text": [
      "red pill\n"
     ]
    }
   ],
   "source": [
    "print(np.random.choice(matrix))"
   ]
  },
  {
   "cell_type": "code",
   "execution_count": 25,
   "id": "3e299e0e-45ed-4239-bcee-4ace32ef739e",
   "metadata": {},
   "outputs": [
    {
     "data": {
      "text/plain": [
       "2"
      ]
     },
     "execution_count": 25,
     "metadata": {},
     "output_type": "execute_result"
    }
   ],
   "source": [
    "# Returning a random interger between 0 - 9\n",
    "np.random.choice(10)"
   ]
  },
  {
   "cell_type": "code",
   "execution_count": 26,
   "id": "8c35a879-ca58-4158-b0b8-f81976425e5f",
   "metadata": {},
   "outputs": [],
   "source": [
    "# An array of 5 random intergers between 0 and 6\n",
    "x = np.random.choice(10, 5000)"
   ]
  },
  {
   "cell_type": "code",
   "execution_count": 27,
   "id": "4b971982-d0e9-4eb6-a4b7-379d80218695",
   "metadata": {},
   "outputs": [
    {
     "data": {
      "text/plain": [
       "array([1, 2, 4, ..., 3, 9, 0])"
      ]
     },
     "execution_count": 27,
     "metadata": {},
     "output_type": "execute_result"
    }
   ],
   "source": [
    "x"
   ]
  },
  {
   "cell_type": "code",
   "execution_count": 28,
   "id": "310485ce-ddf2-4c58-b663-13bba648030c",
   "metadata": {},
   "outputs": [
    {
     "data": {
      "text/plain": [
       "array([3, 3, 2, 2, 2, 3, 2, 2, 2, 0, 3, 3, 3, 3, 3, 3, 3, 2, 2, 3, 3, 1,\n",
       "       3, 3, 3, 3, 3, 2, 0, 3, 2, 2, 3, 3, 2, 1, 3, 2, 2, 3, 1, 3, 3, 1,\n",
       "       3, 2, 0, 0, 0, 2, 2, 3, 3, 3, 0, 2, 0, 0, 3, 0, 3, 3, 3, 0, 3, 1,\n",
       "       3, 2, 3, 3, 3, 3, 0, 3, 0, 3, 2, 2, 1, 2, 2, 2, 3, 3, 0, 1, 1, 3,\n",
       "       1, 1, 0, 1, 0, 3, 2, 3, 3, 3, 1, 0])"
      ]
     },
     "execution_count": 28,
     "metadata": {},
     "output_type": "execute_result"
    }
   ],
   "source": [
    "# Probability of each element of in the array can also be set\n",
    "prob = np.random.choice(5, 100, p =[0.2, 0.1, 0.3, 0.4, 0]) # p must add up to 1.\n",
    "prob"
   ]
  },
  {
   "cell_type": "code",
   "execution_count": 29,
   "id": "f970a6ca-55a7-464d-ad76-ced45d0d7fb0",
   "metadata": {},
   "outputs": [
    {
     "data": {
      "text/plain": [
       "(array([16.,  0.,  0., 12.,  0.,  0., 25.,  0.,  0., 47.]),\n",
       " array([0. , 0.3, 0.6, 0.9, 1.2, 1.5, 1.8, 2.1, 2.4, 2.7, 3. ]),\n",
       " <BarContainer object of 10 artists>)"
      ]
     },
     "execution_count": 29,
     "metadata": {},
     "output_type": "execute_result"
    },
    {
     "data": {
      "image/png": "[encoded data removed]",
      "text/plain": [
       "<Figure size 432x288 with 1 Axes>"
      ]
     },
     "metadata": {
      "needs_background": "light"
     },
     "output_type": "display_data"
    }
   ],
   "source": [
    "plt.hist(prob)"
   ]
  },
  {
   "cell_type": "markdown",
   "id": "2de53015-8936-4223-bb76-aa4a89e1eec2",
   "metadata": {},
   "source": [
    "#### random.bytes\n",
    "\n",
    "This function outputs a string equalling the parameter(lenght) passed to it."
   ]
  },
  {
   "cell_type": "code",
   "execution_count": 30,
   "id": "7770bacd-d5d9-4242-bc38-6de23f157c3a",
   "metadata": {},
   "outputs": [
    {
     "data": {
      "text/plain": [
       "b'\\xd8Nq'"
      ]
     },
     "execution_count": 30,
     "metadata": {},
     "output_type": "execute_result"
    }
   ],
   "source": [
    "# Generates a string of 3 random bytes\n",
    "np.random.bytes(3)"
   ]
  },
  {
   "cell_type": "markdown",
   "id": "f444d69a-8c6f-4cd8-8616-a920eb49f9c0",
   "metadata": {},
   "source": [
    "***\n",
    "\n",
    "## Permutations\n",
    "\n",
    "\n",
    "***"
   ]
  },
  {
   "cell_type": "markdown",
   "id": "46b82fce-8d3c-4964-9cb6-81cdc63ac90e",
   "metadata": {},
   "source": [
    "A permutation is the arrangement of its values into a sequence or linear order, or if the set is already ordered, a rearrangement of its elements [8]. Randomly reordering an arragement of elements is refered to permutating [6]. A permutation refers to an arrangement of elements e.g. [3, 2, 1] is a permutation of [1, 2, 3] and vice-versa. \n",
    "\n",
    "Within numpy.random there are two methods for permutation:\n",
    "\n",
    "- Shuffle\n",
    "- Permutation\n",
    "\n"
   ]
  },
  {
   "cell_type": "markdown",
   "id": "e358579c-1711-4eef-8113-5f0f8a734bc8",
   "metadata": {
    "tags": []
   },
   "source": [
    "##### random.shuffle\n",
    "\n",
    "This method randomly reorders the elements of the array in place i.e. that original order is overwritten with the new order. random.shuffle only shuffles the array along the first axis (1D array)."
   ]
  },
  {
   "cell_type": "code",
   "execution_count": 31,
   "id": "afb10782-4167-486d-a97a-967cdece7b6d",
   "metadata": {},
   "outputs": [],
   "source": [
    "# Creating a 1D array \n",
    "single = np.random.randint(0, 10, 5)"
   ]
  },
  {
   "cell_type": "code",
   "execution_count": 32,
   "id": "842aebf8-3928-4355-b3ed-61c1909bfe1f",
   "metadata": {},
   "outputs": [
    {
     "data": {
      "text/plain": [
       "array([8, 4, 7, 8, 1])"
      ]
     },
     "execution_count": 32,
     "metadata": {},
     "output_type": "execute_result"
    }
   ],
   "source": [
    "single"
   ]
  },
  {
   "cell_type": "code",
   "execution_count": 33,
   "id": "bc5104d8-1896-4e04-b9ac-ca9556724dc7",
   "metadata": {},
   "outputs": [],
   "source": [
    "# Randomly shuffling the element of the single array\n",
    "np.random.shuffle(single)"
   ]
  },
  {
   "cell_type": "code",
   "execution_count": 34,
   "id": "d758ff07-b073-4009-a15a-0193e278dd80",
   "metadata": {
    "tags": []
   },
   "outputs": [
    {
     "data": {
      "text/plain": [
       "array([8, 8, 1, 4, 7])"
      ]
     },
     "execution_count": 34,
     "metadata": {},
     "output_type": "execute_result"
    }
   ],
   "source": [
    "# New arrangement of the single array\n",
    "single"
   ]
  },
  {
   "cell_type": "markdown",
   "id": "f055a484-727c-467b-af86-0838e4d4e79d",
   "metadata": {},
   "source": [
    " For multi-demensional arrays, it shuffles the arrays in the matrix not their values."
   ]
  },
  {
   "cell_type": "code",
   "execution_count": 35,
   "id": "a9ab67a8-a05f-40e7-80db-939535df5c6c",
   "metadata": {},
   "outputs": [],
   "source": [
    "# Creating a 3D array\n",
    "multi = np.random.randint(5, size=(3,5))"
   ]
  },
  {
   "cell_type": "code",
   "execution_count": 36,
   "id": "85ea9550-9d4f-46bc-8444-8788c3b826ce",
   "metadata": {
    "tags": []
   },
   "outputs": [
    {
     "data": {
      "text/plain": [
       "array([[1, 1, 4, 1, 4],\n",
       "       [0, 3, 0, 0, 1],\n",
       "       [2, 3, 0, 4, 4]])"
      ]
     },
     "execution_count": 36,
     "metadata": {},
     "output_type": "execute_result"
    }
   ],
   "source": [
    "multi"
   ]
  },
  {
   "cell_type": "code",
   "execution_count": 37,
   "id": "aee7e3f2-91c0-4d78-9df0-d1be5b9e687a",
   "metadata": {},
   "outputs": [],
   "source": [
    "# Randomly shuffling the 3D array\n",
    "np.random.shuffle(multi)"
   ]
  },
  {
   "cell_type": "code",
   "execution_count": 38,
   "id": "527d9a3e-3e6d-48c1-a0cd-b9bc17b79491",
   "metadata": {},
   "outputs": [
    {
     "data": {
      "text/plain": [
       "array([[1, 1, 4, 1, 4],\n",
       "       [0, 3, 0, 0, 1],\n",
       "       [2, 3, 0, 4, 4]])"
      ]
     },
     "execution_count": 38,
     "metadata": {},
     "output_type": "execute_result"
    }
   ],
   "source": [
    "# New arrangement of the 3D array. Note only order of matrixes changed\n",
    "multi"
   ]
  },
  {
   "cell_type": "markdown",
   "id": "b4ffdd80-de43-45dd-8e3d-3fdddeb3c209",
   "metadata": {},
   "source": [
    "#### random.permutation\n",
    "\n",
    "This method differs from random.shuffle in that it does not overwrite the orginal array, it returns a copy. Additionally, random.permutation does not shuffle in place i.e. it shuffles up to but not inculding the number passed to it. "
   ]
  },
  {
   "cell_type": "code",
   "execution_count": 39,
   "id": "a79168b7-3fb8-4da3-b460-d0ac3fddfbd9",
   "metadata": {},
   "outputs": [],
   "source": [
    "# Creating a randomly permuted array of elements up to 9\n",
    "orignal = np.random.permutation(10)"
   ]
  },
  {
   "cell_type": "code",
   "execution_count": 40,
   "id": "9daef638-22da-41c5-bc60-e2bacad9be80",
   "metadata": {},
   "outputs": [
    {
     "data": {
      "text/plain": [
       "array([1, 9, 0, 6, 7, 2, 4, 3, 8, 5])"
      ]
     },
     "execution_count": 40,
     "metadata": {},
     "output_type": "execute_result"
    }
   ],
   "source": [
    "orignal"
   ]
  },
  {
   "cell_type": "code",
   "execution_count": 41,
   "id": "d2376c47-903a-4385-bd89-108a0181e106",
   "metadata": {},
   "outputs": [],
   "source": [
    "# Permutating the order of the orignal order\n",
    "new = np.random.permutation(orignal)"
   ]
  },
  {
   "cell_type": "code",
   "execution_count": 42,
   "id": "787d41bb-2de6-4ff6-978a-7d0a336c279a",
   "metadata": {},
   "outputs": [
    {
     "data": {
      "text/plain": [
       "array([9, 1, 5, 4, 6, 3, 2, 7, 0, 8])"
      ]
     },
     "execution_count": 42,
     "metadata": {},
     "output_type": "execute_result"
    }
   ],
   "source": [
    "# A copy of the orginal array in a different order.\n",
    "new"
   ]
  },
  {
   "cell_type": "code",
   "execution_count": 43,
   "id": "9af0cab9-d23c-42a3-a4ac-274049996f51",
   "metadata": {},
   "outputs": [
    {
     "data": {
      "text/plain": [
       "array([1, 9, 0, 6, 7, 2, 4, 3, 8, 5])"
      ]
     },
     "execution_count": 43,
     "metadata": {},
     "output_type": "execute_result"
    }
   ],
   "source": [
    "# Showing that the order of the orignal order has not changed.\n",
    "orignal"
   ]
  },
  {
   "cell_type": "markdown",
   "id": "bc085657-38a6-419f-a516-e4f8aa64d7ef",
   "metadata": {},
   "source": [
    "***\n",
    "\n",
    "### Distributions\n",
    "\n",
    "***"
   ]
  },
  {
   "cell_type": "markdown",
   "id": "81202d68-d99f-4443-87a3-f3de2d4e819a",
   "metadata": {},
   "source": [
    "The distribution of data obtained from a sample is pivitol in understanding how to analyse it. Probability distributions one of the corner stones of statistics. Understanding which probability distribution function fits your data is important for analysis. There are different probability distributions for different types of data. \n",
    "At the highest level, data can be broadly classified into 2 groups:\n",
    "\n",
    "- Qualitative/Categorical data: This is data which answers questions such as \"what type?\". It deals with traits, characteristics, judgements and descriptions. e.g. male or female. Qualitative data contains subtypes. Nominal data, this is data that doesn't follow a pattern or sequence e.g. married/single/divorced. The other subtype is ordinal data. This data can be ranked in decending or ascending order e.g. tooth pain on a scale of pain. This can be refered to binary data if only two cateogries are present e.g. yes/no. If there is more than two categories it is non binary data e.g. yes/no/maybe. [9].\n",
    "\n",
    "- Quantitative/Numerical data: is data which deals with objective measurements. e.g. height, weight. It is data which can be counted and answers \"How much/many?\". Quantitative data can be broken down into discrete data. This is data which is represented in whole numbers e.g. how many people are in the crowd. Continuous data is data which can take any value within a range e.g. a person height can be any value within the range of human heights [9]\n",
    "\n",
    "\n",
    "The 5 distributions we will look deeper at are: \n",
    "\n",
    "- Normal Distribution\n",
    "- Poisson Distribution\n",
    "- Binomial Distribution\n",
    "- Logistic Distribution\n",
    "- Uniform Distribution"
   ]
  },
  {
   "cell_type": "markdown",
   "id": "391398f1-d5f7-4785-a68c-e7d277e26f9f",
   "metadata": {},
   "source": [
    "#### Poisson Distribution\n",
    "\n",
    "Named after after French mathematician Siméon Denis Poisson, the Poisson distribution is a discrete probability distribution that expresses the probability of a given number of events occurring in a fixed interval of time or space if these events occur with a known constant mean rate and independently of the time since the last event.[10]  When the total number of occurrences of the event is unknown, we can think of it as a random variable. This random variable follows the Poisson Distribution. The Poisson distribution is a limiting case of the Binomial distribution when the number of trials becomes very large and the probability of success is small [11]. The Poisson distribution can also be used for the number of events in other specified intervals such as distance, area or volume.\n",
    "\n",
    "Features of a Poisson Process:\n",
    "- The important point is we know the average time between events but they are randomly spaced (stochastic). We might have back-to-back failures, but we could also go years between failures due to the randomness of the process.\n",
    "- A Poisson Process meets the following criteria (in reality many phenomena modeled as Poisson processes don’t meet these exactly):\n",
    "- Events are independent of each other. The occurrence of one event does not affect the probability another event will occur.\n",
    "- The average rate (events per time period) is constant.\n",
    "- Two events cannot occur at the same time [12]\n",
    "\n",
    "\n",
    "Examples:The number of patients arriving in an emergency room between 10 and 11 pm, Vistors to a website, calling a helpline.\n",
    "\n",
    "We need to apply the Poisson Distribution to a Poisson Process to do interesting things like finding the probability of a number of events in a time period or finding the probability of waiting some time until the next event.\n",
    "\n",
    "[picture]\n",
    "\n",
    "- k: The number of occurrences of an event for which poisson distribution has to be found\n",
    "- λ: The expected number of event occurrences in the given interval\n",
    "- e: It is the Euler’s constant whose approximate value is 2.72.\n",
    "\n",
    "Parameters:\n",
    "lam: It is a float value or an array of float values. The lam corresponds to the λ value in the poisson distribution formula. It denotes the expected number of event occurrences for a given time interval. Its value should be greater than or equal to zero since no event can occur a negative amount of times.\n",
    "\n",
    "size: It is an optional parameter whose default value is ‘None’. For None, it will return a single value as a sample. If you pass any (x,y) value, then x * y samples will be drawn from the poisson distribution. If any other value n is passed, then n samples would be drawn from it. [13]"
   ]
  },
  {
   "cell_type": "code",
   "execution_count": 100,
   "id": "dd8de7bf-00ee-4ad4-8711-0d478d22259c",
   "metadata": {},
   "outputs": [],
   "source": [
    "# The frequency an event will occur 5 times.\n",
    "x = np.random.poisson(5)"
   ]
  },
  {
   "cell_type": "code",
   "execution_count": 101,
   "id": "a2fc0bd8-94d8-4bdb-a14c-e6c941066a31",
   "metadata": {},
   "outputs": [
    {
     "data": {
      "text/plain": [
       "6"
      ]
     },
     "execution_count": 101,
     "metadata": {},
     "output_type": "execute_result"
    }
   ],
   "source": [
    "x"
   ]
  },
  {
   "cell_type": "code",
   "execution_count": 124,
   "id": "9134dd67-f594-4c0a-914b-967afefdf41d",
   "metadata": {},
   "outputs": [
    {
     "data": {
      "text/plain": [
       "Text(0, 0.5, 'Frequency')"
      ]
     },
     "execution_count": 124,
     "metadata": {},
     "output_type": "execute_result"
    },
    {
     "data": {
      "image/png": "[encoded data removed]",
      "text/plain": [
       "<Figure size 432x288 with 1 Axes>"
      ]
     },
     "metadata": {
      "needs_background": "light"
     },
     "output_type": "display_data"
    }
   ],
   "source": [
    "# Plotting y\n",
    "plt.hist(x)\n",
    "plt.ylabel(\"Frequency\") # Label the y axis"
   ]
  },
  {
   "cell_type": "code",
   "execution_count": 112,
   "id": "c8077909-8a38-4d45-93cf-70c2fc0180a3",
   "metadata": {},
   "outputs": [],
   "source": [
    "# Adding a size of 20. This means 20 samples will be taken.\n",
    "y = np.random.poisson(5, 100)"
   ]
  },
  {
   "cell_type": "code",
   "execution_count": 113,
   "id": "5a46d7dc-0639-421a-b695-78e50fde330b",
   "metadata": {},
   "outputs": [
    {
     "data": {
      "text/plain": [
       "array([ 2,  4,  7,  4,  6,  1,  3,  8, 10,  3,  9,  8,  4,  5,  8,  6,  6,\n",
       "        7,  5,  6,  9,  5,  5,  5,  4,  7,  7,  4,  1, 11,  3,  2,  6,  1,\n",
       "        5,  7,  6,  1,  6,  1,  5,  4,  2,  5,  5,  3,  4,  4,  5,  4,  7,\n",
       "        7,  9,  4,  6,  2,  7,  6,  3,  5,  5,  8,  7,  7,  8,  4,  8, 12,\n",
       "        5,  6,  5,  7,  0,  6,  1,  6,  6,  4, 11,  6,  7,  9,  2,  4,  6,\n",
       "        5,  4,  0,  6,  1,  5,  5,  3,  5,  7,  5,  9,  7,  6,  6])"
      ]
     },
     "execution_count": 113,
     "metadata": {},
     "output_type": "execute_result"
    }
   ],
   "source": [
    "y"
   ]
  },
  {
   "cell_type": "code",
   "execution_count": 171,
   "id": "6b0b509f-4ad6-49f6-89d4-8dd921ec9ffd",
   "metadata": {},
   "outputs": [
    {
     "data": {
      "text/plain": [
       "Text(0, 0.5, 'Frequency')"
      ]
     },
     "execution_count": 171,
     "metadata": {},
     "output_type": "execute_result"
    },
    {
     "data": {
      "image/png": "[encoded data removed]",
      "text/plain": [
       "<Figure size 432x288 with 1 Axes>"
      ]
     },
     "metadata": {
      "needs_background": "light"
     },
     "output_type": "display_data"
    }
   ],
   "source": [
    "# Plotting x\n",
    "plt.hist(y, alpha=0.5)\n",
    "plt.ylabel(\"Frequency\") # Label the y axis"
   ]
  },
  {
   "cell_type": "markdown",
   "id": "febeaff5-c630-4578-a240-9d43671c063e",
   "metadata": {},
   "source": [
    "The same method can be applied to multidimensional arrays."
   ]
  },
  {
   "cell_type": "code",
   "execution_count": 189,
   "id": "45634f19-54d5-41ac-9177-7d7599f41e57",
   "metadata": {},
   "outputs": [],
   "source": [
    "# Generating a multi dimeensional array with 16 samples to draw\n",
    "z = np.random.poisson(2, (10, 10))"
   ]
  },
  {
   "cell_type": "code",
   "execution_count": 190,
   "id": "bcb8c935-d4c2-4530-8c13-7b24730cf7a7",
   "metadata": {},
   "outputs": [
    {
     "data": {
      "text/plain": [
       "array([[3, 0, 1, 2, 2, 3, 0, 0, 1, 3],\n",
       "       [1, 1, 0, 2, 1, 1, 3, 1, 2, 4],\n",
       "       [3, 3, 1, 3, 3, 1, 2, 5, 3, 1],\n",
       "       [3, 0, 2, 4, 1, 0, 3, 2, 1, 2],\n",
       "       [2, 2, 2, 1, 2, 2, 1, 2, 4, 2],\n",
       "       [2, 4, 5, 4, 9, 3, 3, 1, 2, 2],\n",
       "       [2, 2, 1, 0, 1, 4, 1, 1, 3, 0],\n",
       "       [2, 2, 1, 3, 0, 5, 4, 2, 2, 1],\n",
       "       [3, 2, 0, 1, 2, 1, 0, 1, 2, 5],\n",
       "       [2, 1, 5, 5, 3, 1, 1, 2, 3, 1]])"
      ]
     },
     "execution_count": 190,
     "metadata": {},
     "output_type": "execute_result"
    }
   ],
   "source": [
    "z"
   ]
  },
  {
   "cell_type": "code",
   "execution_count": 191,
   "id": "bccf3e51-077f-4d62-8a3a-e689c55e3fba",
   "metadata": {},
   "outputs": [
    {
     "data": {
      "text/plain": [
       "Text(0, 0.5, 'Frequency')"
      ]
     },
     "execution_count": 191,
     "metadata": {},
     "output_type": "execute_result"
    },
    {
     "data": {
      "image/png": "[encoded data removed]",
      "text/plain": [
       "<Figure size 432x288 with 1 Axes>"
      ]
     },
     "metadata": {
      "needs_background": "light"
     },
     "output_type": "display_data"
    }
   ],
   "source": [
    "count, bins, ignored = plt.hist(z, alpha=0.5)\n",
    "#plt.hist(count = z, bins =16)\n",
    "plt.ylabel(\"Frequency\") # Label the y axis\n",
    "#plt.legend(z)"
   ]
  },
  {
   "cell_type": "code",
   "execution_count": 192,
   "id": "e3f8c91b-c661-4b17-9c22-6122f42d18ca",
   "metadata": {},
   "outputs": [
    {
     "data": {
      "text/plain": [
       "2.07"
      ]
     },
     "execution_count": 192,
     "metadata": {},
     "output_type": "execute_result"
    }
   ],
   "source": [
    "# Mean of samples drawn\n",
    "z.mean()"
   ]
  },
  {
   "cell_type": "code",
   "execution_count": 194,
   "id": "1173562a-a920-4b1e-9897-16a54909e74a",
   "metadata": {},
   "outputs": [],
   "source": [
    "q = np.random.poisson(5, 10000)"
   ]
  },
  {
   "cell_type": "code",
   "execution_count": 195,
   "id": "17d59518-f2c4-44b6-90d6-09fc86c8936e",
   "metadata": {},
   "outputs": [
    {
     "data": {
      "text/plain": [
       "array([9, 4, 8, ..., 8, 6, 4])"
      ]
     },
     "execution_count": 195,
     "metadata": {},
     "output_type": "execute_result"
    }
   ],
   "source": [
    "q"
   ]
  },
  {
   "cell_type": "code",
   "execution_count": 196,
   "id": "4fc9878a-2d96-4e9d-9cdb-d9a25acbb883",
   "metadata": {},
   "outputs": [
    {
     "data": {
      "text/plain": [
       "(array([ 411.,  841., 3094., 1724., 1481., 1719.,  396.,  286.,   30.,\n",
       "          18.]),\n",
       " array([ 0. ,  1.4,  2.8,  4.2,  5.6,  7. ,  8.4,  9.8, 11.2, 12.6, 14. ]),\n",
       " <BarContainer object of 10 artists>)"
      ]
     },
     "execution_count": 196,
     "metadata": {},
     "output_type": "execute_result"
    },
    {
     "data": {
      "image/png": "[encoded data removed]",
      "text/plain": [
       "<Figure size 432x288 with 1 Axes>"
      ]
     },
     "metadata": {
      "needs_background": "light"
     },
     "output_type": "display_data"
    }
   ],
   "source": [
    "plt.hist(q, alpha=0.5)"
   ]
  },
  {
   "cell_type": "code",
   "execution_count": 193,
   "id": "5bcbf6bf-fbe3-41d2-bdc4-d5f2356de2a0",
   "metadata": {},
   "outputs": [
    {
     "data": {
      "text/plain": [
       "4.9933"
      ]
     },
     "execution_count": 193,
     "metadata": {},
     "output_type": "execute_result"
    }
   ],
   "source": [
    "q.mean()"
   ]
  },
  {
   "cell_type": "markdown",
   "id": "b7130801-490d-4de8-b149-f086c6f0c524",
   "metadata": {},
   "source": [
    "We can also draw an equal amount of samples for two different values of lam, simultaneously. In this example, we shall be drawing 20 different sample values for two values of lam: λ = 10 and λ = 100. We will be passing lam argument in the form of (10,100). https://www.pythonpool.com/numpy-random-poisson/"
   ]
  },
  {
   "cell_type": "code",
   "execution_count": 201,
   "id": "01fa7e34-1454-4b47-ad02-22219a80b6fd",
   "metadata": {},
   "outputs": [],
   "source": [
    "# Code taken from pythonpool\n",
    "r = np.random.poisson((10, 100), (20,2))"
   ]
  },
  {
   "cell_type": "code",
   "execution_count": 202,
   "id": "066ac0dd-4c60-4732-bc68-2aa1a2df8804",
   "metadata": {},
   "outputs": [
    {
     "data": {
      "text/plain": [
       "array([[ 10,  83],\n",
       "       [ 11,  85],\n",
       "       [  9,  83],\n",
       "       [  8,  87],\n",
       "       [  9, 113],\n",
       "       [  9, 111],\n",
       "       [  7, 116],\n",
       "       [  7,  89],\n",
       "       [  7,  96],\n",
       "       [ 13,  94],\n",
       "       [ 19, 104],\n",
       "       [ 11, 103],\n",
       "       [  8, 102],\n",
       "       [ 14, 108],\n",
       "       [  7,  95],\n",
       "       [ 20, 110],\n",
       "       [  6,  95],\n",
       "       [ 11,  95],\n",
       "       [ 14,  94],\n",
       "       [ 10,  97]])"
      ]
     },
     "execution_count": 202,
     "metadata": {},
     "output_type": "execute_result"
    }
   ],
   "source": [
    "r"
   ]
  },
  {
   "cell_type": "code",
   "execution_count": 203,
   "id": "7410f77e-3d21-4e4c-b2b4-5ef236ca41c9",
   "metadata": {},
   "outputs": [
    {
     "data": {
      "text/plain": [
       "(array([[18.,  2.,  0.,  0.,  0.,  0.,  0.,  0.,  0.,  0.],\n",
       "        [ 0.,  0.,  0.,  0.,  0.,  0.,  0.,  5., 10.,  5.]]),\n",
       " array([  6.,  17.,  28.,  39.,  50.,  61.,  72.,  83.,  94., 105., 116.]),\n",
       " <a list of 2 BarContainer objects>)"
      ]
     },
     "execution_count": 203,
     "metadata": {},
     "output_type": "execute_result"
    },
    {
     "data": {
      "image/png": "[encoded data removed]",
      "text/plain": [
       "<Figure size 432x288 with 1 Axes>"
      ]
     },
     "metadata": {
      "needs_background": "light"
     },
     "output_type": "display_data"
    }
   ],
   "source": [
    "plt.hist(r)"
   ]
  },
  {
   "cell_type": "markdown",
   "id": "69520478-27fa-4939-99ad-d3ce36101887",
   "metadata": {},
   "source": [
    "***\n",
    "#### Binomial Distribution\n",
    "\n",
    "A binomial distribution can be thought of as probability of a success or failure outcome in an experiment which is repeated numerous times. The binomial distribution assumes that each experinment/event is independant of each other and that only two outcomes came occur, hence the word bi. An example would be flipping a coin. The result can only be heads or tails, the chance of either appear is even. \n",
    "\n",
    "[picture]\n",
    "\n",
    "Parameters:\n",
    "- n - number of trials.\n",
    "- p - probability of occurence of each trial (e.g. for toss of a coin 0.5 each).\n",
    "- size - The shape of the returned array. If size is None (default), a single value is returned if n and p are both scalars.\n",
    "\n",
    "Each result has a predefined probability of success. For a large number of repetition (size) and equal probability of winning (p=0.5) - e.g. coin toss - the result resembles a normal distribution.\n",
    "\n",
    "Binomial distributions must also meet the following criteria:\n",
    "\n",
    "- The number of observations or trials is fixed. In other words, you can only figure out the probability of something happening if you do it a certain number of times. This is common sense—if you toss a coin once, your probability of getting a tails is 50%. If you toss a coin a 20 times, your probability of getting a tails is very, very close to 100%.\n",
    "- Each observation or trial is independent. In other words, none of your trials have an effect on the probability of the next trial.\n",
    "- The probability of success (tails, heads, fail or pass) is exactly the same from one trial to another.\n",
    " \n",
    "Once you know that your distribution is binomial, you can apply the binomial distribution formula to calculate the probability. https://www.statisticshowto.com/probability-and-statistics/binomial-theorem/binomial-distribution-formula/"
   ]
  },
  {
   "cell_type": "code",
   "execution_count": 246,
   "id": "09c0307e-171a-4c44-bdc9-167c6d0b98e6",
   "metadata": {},
   "outputs": [],
   "source": [
    "# Results of flipping a coin 10 trails, with an even probabilty, tested 10000 times\n",
    "coin_toss = np.random.binomial(n=10, p=0.5, size=100000)"
   ]
  },
  {
   "cell_type": "code",
   "execution_count": 247,
   "id": "2b84eaa2-ea51-47f4-9af8-c08dbfdae947",
   "metadata": {},
   "outputs": [
    {
     "data": {
      "text/plain": [
       "array([5, 5, 6, ..., 5, 4, 6])"
      ]
     },
     "execution_count": 247,
     "metadata": {},
     "output_type": "execute_result"
    }
   ],
   "source": [
    "coin_toss"
   ]
  },
  {
   "cell_type": "code",
   "execution_count": 248,
   "id": "6fe032c4-1d2d-41ec-b2e3-1407daeb7f09",
   "metadata": {},
   "outputs": [
    {
     "data": {
      "text/plain": [
       "Text(0.5, 0, '# of Trials')"
      ]
     },
     "execution_count": 248,
     "metadata": {},
     "output_type": "execute_result"
    },
    {
     "data": {
      "image/png": "[encoded data removed]",
      "text/plain": [
       "<Figure size 432x288 with 1 Axes>"
      ]
     },
     "metadata": {
      "needs_background": "light"
     },
     "output_type": "display_data"
    }
   ],
   "source": [
    "# Plotting the coin toss results\n",
    "plt.hist(coin_toss)\n",
    "\n",
    "plt.title('Binomial Distribution') # Adding a title\n",
    "plt.ylabel(\"Probability of Success\") #  y axis label\n",
    "plt.xlabel('# of Trials') # x axis label"
   ]
  },
  {
   "cell_type": "code",
   "execution_count": 250,
   "id": "b24c4868-fe48-4924-a7ba-9ad11e5456e7",
   "metadata": {},
   "outputs": [
    {
     "data": {
      "text/plain": [
       "4.99861"
      ]
     },
     "execution_count": 250,
     "metadata": {},
     "output_type": "execute_result"
    }
   ],
   "source": [
    "# Mean of the coin toss experiment \n",
    "coin_toss.mean()"
   ]
  },
  {
   "cell_type": "markdown",
   "id": "f2f55958-b8c1-410f-ab6d-bceacbc81c68",
   "metadata": {},
   "source": [
    "As expected, around under half the time you choose heads or tails you will be correct. This is to be expected where probaility=0.5. \n",
    "\n",
    "If the probability of success is less than 0.5, the distribution is positively skewed i.e. the probabilities for x is greater for values below the expected value than above it.\n",
    "\n",
    "And if the probability of success is greater than 0.5, the distribution is negatively skewed — i.e. probabilities for X are greater for values above the expected value than below it.\n",
    "\n",
    "https://www.dummies.com/education/math/business-statistics/how-to-graph-the-binomial-distribution/"
   ]
  },
  {
   "cell_type": "code",
   "execution_count": 266,
   "id": "4f39c44c-5ba8-4a7e-a672-dff0c0948b22",
   "metadata": {},
   "outputs": [],
   "source": [
    "# Results of flipping a coin 10 trails, with a skewed probabilty, tested 10000 times\n",
    "pos = np.random.binomial(n=10, p=0.2, size=100000)"
   ]
  },
  {
   "cell_type": "code",
   "execution_count": 267,
   "id": "bc27bc90-789c-4c35-8dc4-7be371833e4f",
   "metadata": {},
   "outputs": [
    {
     "data": {
      "text/plain": [
       "array([3, 1, 3, ..., 2, 1, 1])"
      ]
     },
     "execution_count": 267,
     "metadata": {},
     "output_type": "execute_result"
    }
   ],
   "source": [
    "pos"
   ]
  },
  {
   "cell_type": "code",
   "execution_count": 268,
   "id": "7af33ba5-28a6-4757-b0bd-0bb1403ec43c",
   "metadata": {},
   "outputs": [
    {
     "data": {
      "text/plain": [
       "Text(0.5, 0, '# of Trials')"
      ]
     },
     "execution_count": 268,
     "metadata": {},
     "output_type": "execute_result"
    },
    {
     "data": {
      "image/png": "[encoded data removed]",
      "text/plain": [
       "<Figure size 432x288 with 1 Axes>"
      ]
     },
     "metadata": {
      "needs_background": "light"
     },
     "output_type": "display_data"
    }
   ],
   "source": [
    "# Plotting the coin toss results\n",
    "plt.hist(pos)\n",
    "\n",
    "plt.title('Binomial Distribution') # Adding a title\n",
    "plt.ylabel(\"Probability of Success\") #  y axis label\n",
    "plt.xlabel('# of Trials') # x axis label"
   ]
  },
  {
   "cell_type": "code",
   "execution_count": 269,
   "id": "106c13a5-30d0-467f-bf21-8220645836e8",
   "metadata": {},
   "outputs": [
    {
     "data": {
      "text/plain": [
       "2.00119"
      ]
     },
     "execution_count": 269,
     "metadata": {},
     "output_type": "execute_result"
    }
   ],
   "source": [
    "# Mean of pos\n",
    "pos.mean()"
   ]
  },
  {
   "cell_type": "code",
   "execution_count": 270,
   "id": "3065b7dc-ea93-481b-90ec-5ba1bb91cf50",
   "metadata": {},
   "outputs": [],
   "source": [
    "# Results of flipping a coin 10 trails, with a skewed probabilty, tested 10000 times\n",
    "neg = np.random.binomial(n=10, p=0.8, size=100000)"
   ]
  },
  {
   "cell_type": "code",
   "execution_count": 271,
   "id": "f1e4ff36-dbcb-48ab-a6f4-0eed914f6fbb",
   "metadata": {},
   "outputs": [
    {
     "data": {
      "text/plain": [
       "array([7, 8, 9, ..., 9, 9, 7])"
      ]
     },
     "execution_count": 271,
     "metadata": {},
     "output_type": "execute_result"
    }
   ],
   "source": [
    "neg"
   ]
  },
  {
   "cell_type": "code",
   "execution_count": 272,
   "id": "a50798cb-074c-4d70-ac6e-0be925a96496",
   "metadata": {},
   "outputs": [
    {
     "data": {
      "text/plain": [
       "Text(0.5, 0, '# of Trials')"
      ]
     },
     "execution_count": 272,
     "metadata": {},
     "output_type": "execute_result"
    },
    {
     "data": {
      "image/png": "[encoded data removed]",
      "text/plain": [
       "<Figure size 432x288 with 1 Axes>"
      ]
     },
     "metadata": {
      "needs_background": "light"
     },
     "output_type": "display_data"
    }
   ],
   "source": [
    "# Plotting the coin toss results\n",
    "plt.hist(neg)\n",
    "\n",
    "plt.title('Binomial Distribution') # Adding a title\n",
    "plt.ylabel(\"Probability of Success\") #  y axis label\n",
    "plt.xlabel('# of Trials') # x axis label"
   ]
  },
  {
   "cell_type": "code",
   "execution_count": 273,
   "id": "4925e53a-143c-40b1-8ce5-6e5e086816ae",
   "metadata": {},
   "outputs": [
    {
     "data": {
      "text/plain": [
       "7.99818"
      ]
     },
     "execution_count": 273,
     "metadata": {},
     "output_type": "execute_result"
    }
   ],
   "source": [
    "neg.mean()"
   ]
  },
  {
   "cell_type": "markdown",
   "id": "131b6743-7cc6-451f-a50d-f9cff59d0a0d",
   "metadata": {
    "tags": []
   },
   "source": [
    "### References"
   ]
  },
  {
   "cell_type": "markdown",
   "id": "b20dd204-c277-4e74-9666-3d45aebccc5e",
   "metadata": {
    "tags": []
   },
   "source": [
    "[8] https://en.wikipedia.org/wiki/Permutation\n",
    "[9] https://www.ncbi.nlm.nih.gov/pmc/articles/PMC6707495/\n",
    "[13] https://www.pythonpool.com/numpy-random-poisson/"
   ]
  },
  {
   "cell_type": "markdown",
   "id": "8171bf7a-abee-49cf-aaeb-88129061f3ae",
   "metadata": {},
   "source": [
    "### End"
   ]
  }
 ],
 "metadata": {
  "kernelspec": {
   "display_name": "Python 3 (ipykernel)",
   "language": "python",
   "name": "python3"
  },
  "language_info": {
   "codemirror_mode": {
    "name": "ipython",
    "version": 3
   },
   "file_extension": ".py",
   "mimetype": "text/x-python",
   "name": "python",
   "nbconvert_exporter": "python",
   "pygments_lexer": "ipython3",
   "version": "3.8.11"
  }
 },
 "nbformat": 4,
 "nbformat_minor": 5
}
