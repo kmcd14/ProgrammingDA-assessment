{
 "cells": [
  {
   "cell_type": "markdown",
   "id": "5cb066aa-3521-4799-99cc-c4efb012a6e2",
   "metadata": {
    "tags": []
   },
   "source": [
    "***\n",
    "\n",
    "# The numpy.random package\n",
    "\n",
    "***\n"
   ]
  },
  {
   "cell_type": "markdown",
   "id": "1779eeaa-f3c2-4553-a007-83513b690e9c",
   "metadata": {},
   "source": [
    "![img](images/jupyter_python_numpy.width-808.png)"
   ]
  },
  {
   "cell_type": "markdown",
   "id": "103ca69f-99c1-4ac6-936d-5e11837de132",
   "metadata": {
    "tags": []
   },
   "source": [
    "## What is Numpy?\n",
    "[Numpy Documentation](https://numpy.org/doc/stable/docs/index.html)"
   ]
  },
  {
   "cell_type": "markdown",
   "id": "c84e1d51-8f19-4c12-b829-7cc1c6d3a484",
   "metadata": {},
   "source": [
    "<br>"
   ]
  },
  {
   "cell_type": "markdown",
   "id": "d0a7bbf5-039d-4998-a57f-17a123eaf124",
   "metadata": {
    "tags": []
   },
   "source": [
    "NumPy, which is short for Numerical Python,  is an open source project created in 2005 by Travis Oliphant. In Python, Numpy is the fundamental library in scientific computing [1]. It forms the foundations that some of the most important data analytics (pandas) and machine learning (scikit-learn) deploy.\n",
    "At the core of Numpy are multidimensional array object (ndarry) [2]. It also provides various derived objects (e.g. masked arrays and matrices), and an assortment of routines for fast operations on arrays, including mathematical, logical, shape manipulation, sorting, selecting, I/O, discrete Fourier transforms, basic linear algebra, basic) statistical operations, random simulation and much more [1].\n",
    "\n",
    "#### Arrays\n",
    "\n",
    "- An array class is called as ndarray\n",
    "- The data in an ndarray must be homogeneous, i.e. all elemets contained in it must be the same type.\n",
    "- They have a dtype attribute which is an object that describes the data type of the array.\n",
    "- Size = the total number of elements an array contains. \n",
    "- A tuple of integers giving the size of the array along each dimension is known as shape of the array.\n",
    "- Elements in Numpy arrays are accessed by using square brackets and can be initialized by using nested Python Lists\n",
    "- Arrays have a ndim attribute for the number of axes or dimensions of the array [3].\n"
   ]
  },
  {
   "cell_type": "markdown",
   "id": "94048923-88e9-407c-b064-1ef5fe7eb0c9",
   "metadata": {},
   "source": [
    "<br>"
   ]
  },
  {
   "cell_type": "markdown",
   "id": "f8850610-4434-4ca8-b666-b731ba948d0a",
   "metadata": {},
   "source": [
    "##### Why Use NumPy?\n"
   ]
  },
  {
   "cell_type": "markdown",
   "id": "3db95e64-210f-4546-bc4f-9cc25e37db6a",
   "metadata": {},
   "source": [
    "NumPy arrays are stored in one continuous place in memory unlike Python lists, this makes accessing and manipulate much more efficent. This is incredibly important when working with large amounts of data. Array's also provide many more methods and functions which make working with them \"easier\" [4].\n",
    "\n",
    "The advantages of using Numpy:\n",
    "- Speed: NumPy uses algorithms written in C that complete in nanoseconds rather than seconds.\n",
    "- Fewer loops: NumPy helps you to reduce loops and keep from getting tangled up in iteration indices.\n",
    "- Clearer code: Without loops, your code will look more like the equations you’re trying to calculate.\n",
    "- Better quality: There are thousands of contributors working to keep NumPy fast, friendly, and bug free. [4]"
   ]
  },
  {
   "cell_type": "markdown",
   "id": "b85e0ced-557d-40b8-98dc-684b213f3c84",
   "metadata": {},
   "source": [
    "<br>"
   ]
  },
  {
   "cell_type": "markdown",
   "id": "e6c7aa00-9d39-44db-a1de-786718018daf",
   "metadata": {},
   "source": [
    "<br>"
   ]
  },
  {
   "cell_type": "markdown",
   "id": "ff2ebdf3-6644-45dc-8ded-df1bd3082de2",
   "metadata": {
    "tags": []
   },
   "source": [
    "#### Getting Started"
   ]
  },
  {
   "cell_type": "markdown",
   "id": "0ad3276a-ee7c-49c2-8921-0d4a47e98df1",
   "metadata": {},
   "source": [
    "<br>"
   ]
  },
  {
   "cell_type": "code",
   "execution_count": 1,
   "id": "f9e050b4-d655-4d75-bbf9-6853b812f125",
   "metadata": {},
   "outputs": [],
   "source": [
    "# Importing the libary\n",
    "import numpy as np\n",
    "\n",
    "# Plotting\n",
    "import matplotlib.pyplot as plt\n",
    "\n",
    "# Plotting\n",
    "import seaborn as sns"
   ]
  },
  {
   "cell_type": "code",
   "execution_count": 2,
   "id": "bcd8438d-259a-44bd-8744-756da0118109",
   "metadata": {},
   "outputs": [],
   "source": [
    "# Standard plot size.\n",
    "plt.rcParams['figure.figsize'] = (15, 10)\n",
    "\n",
    "# Standard colour scheme.\n",
    "plt.style.use('ggplot')"
   ]
  },
  {
   "cell_type": "markdown",
   "id": "50c6bbb8-a2b8-471f-ac66-9bdbba5fd51e",
   "metadata": {},
   "source": [
    "<br>"
   ]
  },
  {
   "cell_type": "markdown",
   "id": "ef1f0139-73ab-4317-9428-d06d0c714a5a",
   "metadata": {},
   "source": [
    "<br>"
   ]
  },
  {
   "cell_type": "markdown",
   "id": "5bf110b2-ca23-431a-a221-fb2d7b933872",
   "metadata": {
    "tags": []
   },
   "source": [
    "### What is numpy.random?\n",
    "[Documentation for numpy.random](https://numpy.org/doc/stable/reference/random/index.html#:~:text=Random%20sampling%20(%20numpy.-,random%20),Objects%20that%20generate%20random%20numbers)"
   ]
  },
  {
   "cell_type": "markdown",
   "id": "57c8ba3b-3adf-4bfb-b24d-c86ca384cb4c",
   "metadata": {
    "tags": []
   },
   "source": [
    "Randomness has many uses in science, art, statistics, cryptography, gaming, gambling, and other fields. For example, random assignment in randomized controlled trials helps scientists to test hypotheses, and random numbers or pseudorandom numbers help video games such as video poker. Many elements of statistical practice depend on randomness via random numbers. Where those random numbers fail to be actually random, any subsequent statistical analysis may suffer from systematic bias. Elements of statistical practice that depend on randomness include: choosing a representative sample of the population being examined [5].\n",
    "\n",
    "Random number does NOT mean a different number every time. Random means something that can not be predicted logically. numpy.random is a module in the numpy library used for arrays [6].\n",
    "Numpy.random is used to create arrays of random numbers . The reason we use this “fake data'' is that it enables people to test before working with real data. It can efficiently generate arrays of sample values from many kinds of probability distributions [7].\n",
    "\n",
    "Python has a random module, which allows for the generation of single random numbers with a few basic distributions. numpy.random has much more functionability; allowing the genration of whole arrays of random numbers, ways to work with these arrays and allows for a wider selection of probability distributions.\n",
    "\n",
    "\n",
    "\n",
    "numpy.random can be broken into:\n",
    "\n",
    "- Simple random data\n",
    "- Permutations\n",
    "- Distribution\n"
   ]
  },
  {
   "cell_type": "markdown",
   "id": "aa72b3d1-1a6c-47e7-9c3d-cb3f28014823",
   "metadata": {},
   "source": [
    "<br>"
   ]
  },
  {
   "cell_type": "markdown",
   "id": "870189b3-3c2e-49f4-a6e7-13ff247279ba",
   "metadata": {},
   "source": [
    "### Switch to PCG-64"
   ]
  },
  {
   "cell_type": "markdown",
   "id": "2afe8d57-7796-44eb-a6c5-659b8679ca57",
   "metadata": {},
   "source": [
    "\n",
    "Numpy has recently updated the method it uses to generate random numbers. Previously, Numpy employed the Mersenne Twister pseudo-random number generator (MT19937) refered to as legacy random state - This method can still be used. It has updated to the Permutation Congruential generator (PCG-64) method. PCG-64 is a 128-bit implementation of O’Neill’s permutation congruential generator [33]. It was developed in 2014 [34].\n",
    "\n",
    "\n",
    "The Mersenne Twister was developed in 1997 by Makoto Matsumoto and Takuji Nishimura[36]. It is a which has has a period of 2^19937 before it begins repeating a squence of numbers. It works in 624 32bit vaules, where the 32bit value produced cannot be used to predict the next 32bit value. After 624 values it would repeat itself leaving the door open to hackers who where able to gather the 624 sequential values[37]. This compromises the PRNG's predictability.\n",
    "\n",
    "On the otherhand, The Permutation Congruential generator \"...has a period of 2128 and supports advancing an arbitrary number of steps as well as 2127 streams\" and works in 128bits[37]. Making the PCG-64 PRNG faster, more space efficent and better statistic properties than its MT19937 counterpart. \n",
    "\"The main difference between the two is that Generator relies on an additional BitGenerator to manage state and generate the random bits, which are then transformed into random values from useful distributions\" [38]. \n",
    "\n",
    "See the below image for a full overview.\n",
    "\n",
    "![img](images/RNG.PNG)"
   ]
  },
  {
   "cell_type": "markdown",
   "id": "d63c2ee0-9b41-4d07-87d0-2b59c3d86991",
   "metadata": {},
   "source": [
    "  <br>\n",
    "  \n",
    "  </br>"
   ]
  },
  {
   "cell_type": "code",
   "execution_count": 3,
   "id": "383c5a62-ba1b-438f-a70a-e83109e86227",
   "metadata": {},
   "outputs": [],
   "source": [
    "# Setting the PRNG as PCG-64\n",
    "rng = np.random.default_rng()"
   ]
  },
  {
   "cell_type": "markdown",
   "id": "45d63860-65b0-42f0-9557-a6a2cdc8d3ce",
   "metadata": {},
   "source": [
    "  <br>\n",
    "  \n",
    "  </br>"
   ]
  },
  {
   "cell_type": "markdown",
   "id": "4915f842-1fa2-4861-8493-9e0db2d1945e",
   "metadata": {},
   "source": [
    "As a result of the change over there as some changes to Simple Random Data as outlined below."
   ]
  },
  {
   "cell_type": "markdown",
   "id": "adcb11ed-fe3a-42f0-861d-f6253fff4069",
   "metadata": {},
   "source": [
    "  <br>\n",
    "\n",
    "  </br>"
   ]
  },
  {
   "cell_type": "markdown",
   "id": "e23bd61e-62d2-43d7-865c-9ca21493ebb1",
   "metadata": {},
   "source": [
    "![image.png](images/generator_changes.PNG)"
   ]
  },
  {
   "cell_type": "markdown",
   "id": "8c4f8954-ba37-453c-8cb7-c3680cdfc035",
   "metadata": {},
   "source": [
    "<br>"
   ]
  },
  {
   "cell_type": "markdown",
   "id": "0fefcfb1-b6a3-499e-a6d0-eda1a05651f2",
   "metadata": {},
   "source": [
    "<br>"
   ]
  },
  {
   "cell_type": "markdown",
   "id": "4c77a82a-8aeb-4a2a-bd69-c2cf22b7e909",
   "metadata": {
    "tags": []
   },
   "source": [
    " ***\n",
    " ## Simple Random Data\n",
    " ***\n"
   ]
  },
  {
   "cell_type": "markdown",
   "id": "e5bae918-6bd2-4c77-aed9-68d524227af4",
   "metadata": {
    "tags": []
   },
   "source": [
    "#### rng.intergers()\n",
    "\n",
    "An array of specified shape filled with random integers from low (inclusive) to high (exclusive)."
   ]
  },
  {
   "cell_type": "markdown",
   "id": "98add9f4-a7c4-4e70-8bd7-94e30f82f5d4",
   "metadata": {},
   "source": [
    "<br>"
   ]
  },
  {
   "cell_type": "code",
   "execution_count": 4,
   "id": "95435480-5143-4613-a874-cf24ccdc2640",
   "metadata": {},
   "outputs": [
    {
     "data": {
      "text/plain": [
       "2"
      ]
     },
     "execution_count": 4,
     "metadata": {},
     "output_type": "execute_result"
    }
   ],
   "source": [
    "# A Random intergr between 0 and 4\n",
    "rng.integers(5)"
   ]
  },
  {
   "cell_type": "markdown",
   "id": "ff9e49ed-a19a-4545-9229-42d78648edec",
   "metadata": {},
   "source": [
    "<br>"
   ]
  },
  {
   "cell_type": "code",
   "execution_count": 5,
   "id": "7b972735-0118-4f86-86ef-673f8f864921",
   "metadata": {},
   "outputs": [
    {
     "data": {
      "text/plain": [
       "4"
      ]
     },
     "execution_count": 5,
     "metadata": {},
     "output_type": "execute_result"
    }
   ],
   "source": [
    "# A random intergr between low 0 and 10 (exculsive).\n",
    "rng.integers(0,10)"
   ]
  },
  {
   "cell_type": "markdown",
   "id": "1e0fffcd-cdd8-443c-9f0c-55c08e8f24b3",
   "metadata": {},
   "source": [
    "<br>"
   ]
  },
  {
   "cell_type": "code",
   "execution_count": 6,
   "id": "139b9f6b-6e11-4936-8177-fd40e7bf9c25",
   "metadata": {},
   "outputs": [
    {
     "data": {
      "text/plain": [
       "3"
      ]
     },
     "execution_count": 6,
     "metadata": {},
     "output_type": "execute_result"
    }
   ],
   "source": [
    "# A random intergr between low -10 and 10 (exculsive)\n",
    "np.random.randint(-10, 10)"
   ]
  },
  {
   "cell_type": "markdown",
   "id": "490da556-67d2-4242-ba0d-090b026cb175",
   "metadata": {},
   "source": [
    "<br>"
   ]
  },
  {
   "cell_type": "code",
   "execution_count": 7,
   "id": "93d55528-a3b5-44b6-b66b-d7ae64cde79e",
   "metadata": {},
   "outputs": [
    {
     "data": {
      "text/plain": [
       "array([5, 8, 9, 8, 2], dtype=int64)"
      ]
     },
     "execution_count": 7,
     "metadata": {},
     "output_type": "execute_result"
    }
   ],
   "source": [
    "# A 1D array of 5 random intergrs between 0 (low) and 10 (exculsive).\n",
    "rng.integers(0, 10, 5)"
   ]
  },
  {
   "cell_type": "markdown",
   "id": "fc0323dc-4d66-4802-b029-2ef0629bd5d9",
   "metadata": {},
   "source": [
    "<br>"
   ]
  },
  {
   "cell_type": "markdown",
   "id": "f89cf79b-13ec-4bb7-9af0-a51576034b96",
   "metadata": {},
   "source": [
    "<br>\n",
    "  The above is a 1D array. numpy.random also allows us to make more dimensional arrays. See examples below"
   ]
  },
  {
   "cell_type": "markdown",
   "id": "c69f2560-c126-4c7c-b2c6-26871c2ccb97",
   "metadata": {},
   "source": [
    "<br>"
   ]
  },
  {
   "cell_type": "code",
   "execution_count": 8,
   "id": "7842c0ab-1ed2-4fcf-bbd7-b4109ec3c163",
   "metadata": {},
   "outputs": [
    {
     "data": {
      "text/plain": [
       "array([[0, 1],\n",
       "       [0, 0]], dtype=int64)"
      ]
     },
     "execution_count": 8,
     "metadata": {},
     "output_type": "execute_result"
    }
   ],
   "source": [
    "# 2D array of random intergers \n",
    "rng.integers(low=2, size=(2,2))"
   ]
  },
  {
   "cell_type": "markdown",
   "id": "333b7fbb-4ebd-4913-8896-a2e2266224ad",
   "metadata": {},
   "source": [
    "<br>"
   ]
  },
  {
   "cell_type": "code",
   "execution_count": 9,
   "id": "94438c01-8214-43e2-89c2-6897cfda6715",
   "metadata": {},
   "outputs": [
    {
     "data": {
      "text/plain": [
       "array([[[0, 2],\n",
       "        [1, 4]],\n",
       "\n",
       "       [[0, 1],\n",
       "        [3, 2]]], dtype=int64)"
      ]
     },
     "execution_count": 9,
     "metadata": {},
     "output_type": "execute_result"
    }
   ],
   "source": [
    "# 3D array of random numbers\n",
    "rng.integers(0, 5, (2, 2, 2))"
   ]
  },
  {
   "cell_type": "markdown",
   "id": "b12d8e02-366e-4b75-b055-93461846332a",
   "metadata": {},
   "source": [
    "<br>"
   ]
  },
  {
   "cell_type": "code",
   "execution_count": 10,
   "id": "3e8022c6-8ba4-4182-ab23-bc66513834ea",
   "metadata": {},
   "outputs": [],
   "source": [
    "#  Array of 5 intergers \n",
    "x = rng.integers(0, 10, 5)"
   ]
  },
  {
   "cell_type": "code",
   "execution_count": 11,
   "id": "4ae1d159-8513-432a-b0b5-b9e6d9c808cc",
   "metadata": {},
   "outputs": [
    {
     "data": {
      "text/plain": [
       "array([0, 8, 6, 8, 5], dtype=int64)"
      ]
     },
     "execution_count": 11,
     "metadata": {},
     "output_type": "execute_result"
    }
   ],
   "source": [
    "x"
   ]
  },
  {
   "cell_type": "markdown",
   "id": "91072f37-3099-4e37-9af3-47f0d987349d",
   "metadata": {},
   "source": [
    "<br>"
   ]
  },
  {
   "cell_type": "code",
   "execution_count": 12,
   "id": "3d56be4c-c99f-4b70-9c3a-963672e51392",
   "metadata": {},
   "outputs": [],
   "source": [
    "# We can manipulte the arrays. \n",
    "y = x * 10 # Multiplying each element in the array by 10."
   ]
  },
  {
   "cell_type": "code",
   "execution_count": 13,
   "id": "f88a6294-532e-445f-bf33-c3e9803bcfbd",
   "metadata": {},
   "outputs": [
    {
     "data": {
      "text/plain": [
       "array([ 0, 80, 60, 80, 50], dtype=int64)"
      ]
     },
     "execution_count": 13,
     "metadata": {},
     "output_type": "execute_result"
    }
   ],
   "source": [
    "y"
   ]
  },
  {
   "cell_type": "markdown",
   "id": "ff4a0a5d-2d05-472d-9cfd-f023ca5b8c98",
   "metadata": {},
   "source": [
    "<br>\n",
    "\n",
    "### rng.random()\n",
    "An array of a given shape of random (float) values between 0.0 and 1.0, including 0.0 and not 1 from a uniform distribution. The first value passed is the number of \"rows\" in the array. The second is the amount of values each row contains. Any, other arguments passed indicate the number of ndarrays. Deminsions should be posistive"
   ]
  },
  {
   "cell_type": "markdown",
   "id": "448b8511-94d9-4a6e-9f49-4892c4ea407e",
   "metadata": {},
   "source": [
    "As random.randn is not supported in PCG64 to access negative values, we must use the following formula. \n",
    "[Negative rng.random values Documentation](https://numpy.org/doc/stable/reference/random/generated/numpy.random.Generator.random.html#numpy.random.Generator.random)"
   ]
  },
  {
   "cell_type": "markdown",
   "id": "3270e5ea-d1d0-429e-8d47-e436e82bae0a",
   "metadata": {},
   "source": [
    "                   (b - a) * random() + a\n"
   ]
  },
  {
   "cell_type": "code",
   "execution_count": 14,
   "id": "8132f71a-30bc-4635-a3be-447751ba21c5",
   "metadata": {},
   "outputs": [
    {
     "data": {
      "text/plain": [
       "array([-1.71350413, -2.59248963])"
      ]
     },
     "execution_count": 14,
     "metadata": {},
     "output_type": "execute_result"
    }
   ],
   "source": [
    "# Generating an array of negative values between -3 and 0.\n",
    "3 * rng.random(2) - 3"
   ]
  },
  {
   "cell_type": "markdown",
   "id": "0f7039b8-f520-4214-98ed-0ad1abaeed33",
   "metadata": {},
   "source": [
    "  <br>"
   ]
  },
  {
   "cell_type": "code",
   "execution_count": 15,
   "id": "6fbee888-9043-47e2-b0f7-794c6a990a39",
   "metadata": {},
   "outputs": [
    {
     "data": {
      "text/plain": [
       "0.12088121620392078"
      ]
     },
     "execution_count": 15,
     "metadata": {},
     "output_type": "execute_result"
    }
   ],
   "source": [
    "# If no argument is given a single random Python float is returned.\n",
    "rng.random()"
   ]
  },
  {
   "cell_type": "markdown",
   "id": "3184e260-7894-4cca-a9a6-03101274987b",
   "metadata": {},
   "source": [
    "  <br>"
   ]
  },
  {
   "cell_type": "code",
   "execution_count": 16,
   "id": "cda93bde-1ba4-4c1a-9ac7-e1b7479ecdba",
   "metadata": {},
   "outputs": [],
   "source": [
    "# Generating 4 random values. 1D array\n",
    "x = rng.random(4)"
   ]
  },
  {
   "cell_type": "code",
   "execution_count": 17,
   "id": "5d43e55a-89b1-4c62-988c-e4b19d1df360",
   "metadata": {},
   "outputs": [
    {
     "data": {
      "text/plain": [
       "array([0.9860467 , 0.34604513, 0.50692006, 0.88812468])"
      ]
     },
     "execution_count": 17,
     "metadata": {},
     "output_type": "execute_result"
    }
   ],
   "source": [
    "x"
   ]
  },
  {
   "cell_type": "markdown",
   "id": "1434a559-2b2e-4f01-b1b8-b0cfbc0d1add",
   "metadata": {},
   "source": [
    "  <br>"
   ]
  },
  {
   "cell_type": "code",
   "execution_count": 21,
   "id": "16b1f206-ba1d-4df7-9664-ce18f7580a0f",
   "metadata": {},
   "outputs": [
    {
     "data": {
      "text/plain": [
       "array([[0.49080214, 0.98261033, 0.14432308, 0.39969727],\n",
       "       [0.57354146, 0.24411714, 0.4447777 , 0.81725202]])"
      ]
     },
     "execution_count": 21,
     "metadata": {},
     "output_type": "execute_result"
    }
   ],
   "source": [
    "# A 2D array containing 4 vaules each\n",
    "rng.random((2,4)) "
   ]
  },
  {
   "cell_type": "markdown",
   "id": "abd27096-3c22-4c78-bd44-86e597cb33c2",
   "metadata": {},
   "source": [
    "<br>"
   ]
  },
  {
   "cell_type": "markdown",
   "id": "e966c6aa-39a1-4752-b4e8-5161fc38e435",
   "metadata": {},
   "source": [
    "  <br>\n"
   ]
  },
  {
   "cell_type": "code",
   "execution_count": 19,
   "id": "f9136473-85b2-4482-b74f-8f403458a0c4",
   "metadata": {},
   "outputs": [
    {
     "data": {
      "text/plain": [
       "array([[[0.31284527, 0.74833465, 0.25329876],\n",
       "        [0.52002461, 0.52768928, 0.48025393]],\n",
       "\n",
       "       [[0.62980782, 0.10345195, 0.47677529],\n",
       "        [0.42588932, 0.64789233, 0.7308958 ]]])"
      ]
     },
     "execution_count": 19,
     "metadata": {},
     "output_type": "execute_result"
    }
   ],
   "source": [
    "# A 3D array \n",
    "rng.random((2, 2, 3))"
   ]
  },
  {
   "cell_type": "markdown",
   "id": "9605fafb-229d-4c90-840d-d9c7dc3079a1",
   "metadata": {},
   "source": [
    "<br>"
   ]
  },
  {
   "cell_type": "markdown",
   "id": "0f94917b-0bc1-4a7a-aa83-25f0185d7d1b",
   "metadata": {},
   "source": [
    "<br>"
   ]
  },
  {
   "cell_type": "code",
   "execution_count": 20,
   "id": "24f6769b-2615-4f71-8434-a6211f068cec",
   "metadata": {},
   "outputs": [
    {
     "data": {
      "text/plain": [
       "(array([10049.,  9963., 10122.,  9922., 10062.,  9981., 10027.,  9958.,\n",
       "         9897., 10019.]),\n",
       " array([3.79546664e-06, 1.00002854e-01, 2.00001913e-01, 3.00000972e-01,\n",
       "        4.00000030e-01, 4.99999089e-01, 5.99998148e-01, 6.99997207e-01,\n",
       "        7.99996265e-01, 8.99995324e-01, 9.99994383e-01]),\n",
       " <BarContainer object of 10 artists>)"
      ]
     },
     "execution_count": 20,
     "metadata": {},
     "output_type": "execute_result"
    },
    {
     "data": {
      "image/png": "[encoded data removed]",
      "text/plain": [
       "<Figure size 1080x720 with 1 Axes>"
      ]
     },
     "metadata": {},
     "output_type": "display_data"
    }
   ],
   "source": [
    "# Plotting a histogram to show the uniform distribution\n",
    "hist_plot = rng.random(100000)\n",
    "plt.hist(hist_plot)"
   ]
  },
  {
   "cell_type": "markdown",
   "id": "13646993-11c1-46bc-834d-c6c4d612dfbf",
   "metadata": {},
   "source": [
    "<br>"
   ]
  },
  {
   "cell_type": "markdown",
   "id": "d05f3741-74e5-4e96-ab4b-5bb7b883d251",
   "metadata": {},
   "source": [
    "<br>"
   ]
  },
  {
   "cell_type": "markdown",
   "id": "1044e112-2aa3-49c8-8abd-b5e96888cb2e",
   "metadata": {},
   "source": [
    "The histogram shows a uniform (rectangule) distribution. There spread of elements in each bin are similar in number.  If a smaller number was chosen the uniform shape would be less evident. See the histogram below"
   ]
  },
  {
   "cell_type": "markdown",
   "id": "73daaf6b-6cd0-43ab-970b-6e43258768e5",
   "metadata": {},
   "source": [
    "<br>"
   ]
  },
  {
   "cell_type": "code",
   "execution_count": 21,
   "id": "8fa27e68-5117-4fce-924a-9491a20691e3",
   "metadata": {},
   "outputs": [],
   "source": [
    "# Plotting a histogram \n",
    "h = rng.random(100)"
   ]
  },
  {
   "cell_type": "code",
   "execution_count": 22,
   "id": "65e02602-bb12-454c-9bdb-5e9127a0384e",
   "metadata": {},
   "outputs": [
    {
     "data": {
      "text/plain": [
       "(array([14.,  7.,  6., 10., 13., 12.,  8., 11.,  6., 13.]),\n",
       " array([0.0018198 , 0.097714  , 0.19360821, 0.28950242, 0.38539663,\n",
       "        0.48129083, 0.57718504, 0.67307925, 0.76897345, 0.86486766,\n",
       "        0.96076187]),\n",
       " <BarContainer object of 10 artists>)"
      ]
     },
     "execution_count": 22,
     "metadata": {},
     "output_type": "execute_result"
    },
    {
     "data": {
      "image/png": "[encoded data removed]",
      "text/plain": [
       "<Figure size 1080x720 with 1 Axes>"
      ]
     },
     "metadata": {},
     "output_type": "display_data"
    }
   ],
   "source": [
    "plt.hist(h)"
   ]
  },
  {
   "cell_type": "markdown",
   "id": "aef70c01-7846-491c-938f-21784338710f",
   "metadata": {},
   "source": [
    "<br>"
   ]
  },
  {
   "cell_type": "markdown",
   "id": "0bdac8b2-6ac4-4da8-b982-ffeed1dfbe4e",
   "metadata": {},
   "source": [
    "<br>"
   ]
  },
  {
   "cell_type": "markdown",
   "id": "3c8511b4-231a-4f40-a7e2-602fc2c34570",
   "metadata": {},
   "source": [
    "<br>"
   ]
  },
  {
   "cell_type": "markdown",
   "id": "ecff5677-e6d6-474d-a2a1-0db95709e9c2",
   "metadata": {
    "tags": []
   },
   "source": [
    "#### rng.choice\n",
    "\n",
    "The rng.choice method is used to get a random value from an array. It is used with one dimensional arrays and returns a new numpy array with randomly chosen values [9].\n"
   ]
  },
  {
   "cell_type": "markdown",
   "id": "b6f87383-fd70-428b-9471-8c2577c4848e",
   "metadata": {},
   "source": [
    "<br>"
   ]
  },
  {
   "cell_type": "code",
   "execution_count": 23,
   "id": "987922f6-264f-472f-8ec1-820d65d753b2",
   "metadata": {
    "tags": []
   },
   "outputs": [],
   "source": [
    "# Retuning a random value from an array\n",
    "matrix = ['red pill', 'blue pill']"
   ]
  },
  {
   "cell_type": "markdown",
   "id": "d6b44ddc-69d4-4b43-8c46-a06b7f116030",
   "metadata": {},
   "source": [
    "  <br>"
   ]
  },
  {
   "cell_type": "markdown",
   "id": "94783833-9110-4ade-a609-7bea8a4c0d49",
   "metadata": {},
   "source": [
    "![img](images/matrix.png)"
   ]
  },
  {
   "cell_type": "markdown",
   "id": "1491bc80-9afb-4d35-b73b-2352df0fa1c8",
   "metadata": {},
   "source": [
    "  <br>"
   ]
  },
  {
   "cell_type": "code",
   "execution_count": 24,
   "id": "739714a4-48eb-4717-8a78-e33757538077",
   "metadata": {},
   "outputs": [
    {
     "name": "stdout",
     "output_type": "stream",
     "text": [
      "blue pill\n"
     ]
    }
   ],
   "source": [
    "print(rng.choice(matrix))"
   ]
  },
  {
   "cell_type": "markdown",
   "id": "6acd8c09-a8ad-4949-bcd4-e426ca6f1771",
   "metadata": {},
   "source": [
    "<br>"
   ]
  },
  {
   "cell_type": "code",
   "execution_count": 25,
   "id": "8c35a879-ca58-4158-b0b8-f81976425e5f",
   "metadata": {},
   "outputs": [],
   "source": [
    "# An array of 100 random intergers between 0 and 4\n",
    "x = rng.choice(5, 100)"
   ]
  },
  {
   "cell_type": "code",
   "execution_count": 26,
   "id": "4658ab21-045d-42ab-95ae-b59318f68de4",
   "metadata": {},
   "outputs": [
    {
     "data": {
      "text/plain": [
       "array([2, 0, 4, 3, 0, 3, 1, 1, 2, 3, 1, 1, 0, 3, 2, 3, 3, 4, 1, 4, 4, 1,\n",
       "       1, 3, 2, 3, 0, 3, 4, 1, 3, 2, 3, 4, 0, 1, 0, 2, 0, 4, 2, 2, 1, 0,\n",
       "       3, 4, 1, 1, 4, 2, 0, 3, 0, 2, 1, 3, 4, 3, 3, 3, 0, 1, 4, 2, 4, 2,\n",
       "       1, 2, 2, 0, 0, 3, 2, 1, 3, 1, 1, 0, 1, 3, 1, 0, 2, 3, 1, 0, 2, 2,\n",
       "       3, 1, 0, 3, 4, 1, 0, 2, 2, 0, 4, 0], dtype=int64)"
      ]
     },
     "execution_count": 26,
     "metadata": {},
     "output_type": "execute_result"
    }
   ],
   "source": [
    "x"
   ]
  },
  {
   "cell_type": "markdown",
   "id": "b06c01ee-ac3c-4cc5-a8ba-74b94376d946",
   "metadata": {},
   "source": [
    "<br>"
   ]
  },
  {
   "cell_type": "markdown",
   "id": "2917d9d7-af17-44b4-bea8-8d39257daf89",
   "metadata": {},
   "source": [
    "  <br>"
   ]
  },
  {
   "cell_type": "code",
   "execution_count": 27,
   "id": "4b971982-d0e9-4eb6-a4b7-379d80218695",
   "metadata": {},
   "outputs": [
    {
     "data": {
      "text/plain": [
       "Text(0.5, 1.0, 'Choice')"
      ]
     },
     "execution_count": 27,
     "metadata": {},
     "output_type": "execute_result"
    },
    {
     "data": {
      "image/png": "[encoded data removed]",
      "text/plain": [
       "<Figure size 1080x720 with 1 Axes>"
      ]
     },
     "metadata": {},
     "output_type": "display_data"
    }
   ],
   "source": [
    "plt.hist(x)\n",
    "plt.title('Choice')"
   ]
  },
  {
   "cell_type": "markdown",
   "id": "49307a7d-1ddd-418f-8295-9da242d95ebc",
   "metadata": {},
   "source": [
    "<br>"
   ]
  },
  {
   "cell_type": "markdown",
   "id": "1ae66870-cbdb-42b5-91ee-1f43e51359ed",
   "metadata": {},
   "source": [
    "  <br>"
   ]
  },
  {
   "cell_type": "code",
   "execution_count": 28,
   "id": "310485ce-ddf2-4c58-b663-13bba648030c",
   "metadata": {},
   "outputs": [],
   "source": [
    "# Probability of each element of in the array can also be set\n",
    "prob = rng.choice(5, 100, p =[0.2, 0.1, 0.3, 0.4, 0]) # a and p must be the same size."
   ]
  },
  {
   "cell_type": "code",
   "execution_count": 29,
   "id": "f0c2d448-0497-47c4-8e50-a095a40a2c91",
   "metadata": {},
   "outputs": [
    {
     "data": {
      "text/plain": [
       "array([2, 1, 3, 3, 3, 3, 3, 3, 2, 3, 1, 3, 3, 3, 2, 2, 0, 0, 2, 3, 0, 0,\n",
       "       0, 2, 2, 3, 2, 0, 3, 0, 0, 3, 3, 3, 3, 2, 2, 3, 3, 3, 3, 1, 2, 2,\n",
       "       0, 2, 3, 0, 3, 2, 1, 0, 2, 3, 3, 2, 2, 2, 2, 2, 2, 2, 2, 3, 3, 1,\n",
       "       3, 2, 3, 2, 0, 3, 1, 2, 1, 0, 0, 3, 2, 0, 2, 1, 2, 2, 2, 3, 0, 2,\n",
       "       0, 3, 2, 2, 3, 0, 0, 0, 2, 2, 3, 3], dtype=int64)"
      ]
     },
     "execution_count": 29,
     "metadata": {},
     "output_type": "execute_result"
    }
   ],
   "source": [
    "prob"
   ]
  },
  {
   "cell_type": "markdown",
   "id": "960a1dfa-3f6c-447a-a992-90b7f44b73bd",
   "metadata": {},
   "source": [
    "<br>"
   ]
  },
  {
   "cell_type": "markdown",
   "id": "a97796bc-58d9-4f48-bf77-68f7c709bbac",
   "metadata": {},
   "source": [
    "<br>"
   ]
  },
  {
   "cell_type": "markdown",
   "id": "2de53015-8936-4223-bb76-aa4a89e1eec2",
   "metadata": {
    "tags": []
   },
   "source": [
    "#### rng.bytes\n",
    "\n",
    "This function outputs a string equalling the parameter(lenght) passed to it."
   ]
  },
  {
   "cell_type": "code",
   "execution_count": 30,
   "id": "0937bf78-6a16-43e0-b054-cb47475a225a",
   "metadata": {},
   "outputs": [
    {
     "data": {
      "text/plain": [
       "b'^\\xa9\\x81'"
      ]
     },
     "execution_count": 30,
     "metadata": {},
     "output_type": "execute_result"
    }
   ],
   "source": [
    "# Generates a string of 3 random bytes\n",
    "rng.bytes(3)"
   ]
  },
  {
   "cell_type": "markdown",
   "id": "2b84c447-91f7-4c11-80a6-4a306531cc1a",
   "metadata": {},
   "source": [
    "<br>"
   ]
  },
  {
   "cell_type": "markdown",
   "id": "354d1502-229c-4a4a-8853-18c62930eec4",
   "metadata": {},
   "source": [
    "<br>"
   ]
  },
  {
   "cell_type": "markdown",
   "id": "f444d69a-8c6f-4cd8-8616-a920eb49f9c0",
   "metadata": {},
   "source": [
    "\n",
    "## Permutations\n",
    "\n",
    "\n",
    "***"
   ]
  },
  {
   "cell_type": "markdown",
   "id": "46b82fce-8d3c-4964-9cb6-81cdc63ac90e",
   "metadata": {},
   "source": [
    "A permutation is the arrangement of its values into a sequence or linear order, or if the set is already ordered, a rearrangement of its elements [11]. Randomly reordering an arragement of elements is refered to permutating [7]. A permutation refers to an arrangement of elements e.g. [3, 2, 1] is a permutation of [1, 2, 3] and vice-versa. \n",
    "\n",
    "![img](images/permutations.png)\n",
    "\n",
    "Within numpy.random there are two methods for permutation:\n",
    "\n",
    "- Shuffle\n",
    "- Permutation\n",
    "- Permuted\n"
   ]
  },
  {
   "cell_type": "markdown",
   "id": "3583bc23-571f-4c9c-ad03-0ab708bfff98",
   "metadata": {},
   "source": [
    "<br>"
   ]
  },
  {
   "cell_type": "markdown",
   "id": "a94caf19-8ad3-496f-ad3b-c2b99287f8d6",
   "metadata": {},
   "source": [
    "<br>"
   ]
  },
  {
   "cell_type": "markdown",
   "id": "a21d55e8-e169-413b-9ab0-6fbd9146d0d7",
   "metadata": {},
   "source": [
    "#### rng.shuffle\n",
    "\n",
    "This method changes(shuffles) the values in an array, in place."
   ]
  },
  {
   "cell_type": "markdown",
   "id": "55a6fb02-cda2-4c4a-a29e-4df817c2eca2",
   "metadata": {},
   "source": [
    "<br>"
   ]
  },
  {
   "cell_type": "code",
   "execution_count": 33,
   "id": "afb10782-4167-486d-a97a-967cdece7b6d",
   "metadata": {},
   "outputs": [],
   "source": [
    "# Creating a 1D array \n",
    "single = rng.integers(0, 10, 5)"
   ]
  },
  {
   "cell_type": "code",
   "execution_count": 34,
   "id": "842aebf8-3928-4355-b3ed-61c1909bfe1f",
   "metadata": {},
   "outputs": [
    {
     "data": {
      "text/plain": [
       "array([5, 7, 8, 6, 4], dtype=int64)"
      ]
     },
     "execution_count": 34,
     "metadata": {},
     "output_type": "execute_result"
    }
   ],
   "source": [
    "single"
   ]
  },
  {
   "cell_type": "markdown",
   "id": "b9468d42-72d4-4183-a152-400db602aee1",
   "metadata": {},
   "source": [
    "<br>"
   ]
  },
  {
   "cell_type": "markdown",
   "id": "f055a484-727c-467b-af86-0838e4d4e79d",
   "metadata": {},
   "source": [
    "<br> For multi-demensional arrays, it shuffles the arrays in the matrix not their values."
   ]
  },
  {
   "cell_type": "markdown",
   "id": "24347eb1-643f-4a46-be66-cb8b7ff1854a",
   "metadata": {},
   "source": [
    "<br>"
   ]
  },
  {
   "cell_type": "code",
   "execution_count": 36,
   "id": "a9ab67a8-a05f-40e7-80db-939535df5c6c",
   "metadata": {},
   "outputs": [],
   "source": [
    "# Creating a 3D array\n",
    "multi = rng.integers(5, size=(3,5))"
   ]
  },
  {
   "cell_type": "code",
   "execution_count": 37,
   "id": "85ea9550-9d4f-46bc-8444-8788c3b826ce",
   "metadata": {
    "tags": []
   },
   "outputs": [
    {
     "data": {
      "text/plain": [
       "array([[2, 3, 4, 0, 0],\n",
       "       [0, 4, 4, 1, 2],\n",
       "       [3, 4, 0, 1, 4]], dtype=int64)"
      ]
     },
     "execution_count": 37,
     "metadata": {},
     "output_type": "execute_result"
    }
   ],
   "source": [
    "multi"
   ]
  },
  {
   "cell_type": "markdown",
   "id": "8b5167eb-5be0-4848-a91e-2ae464125a09",
   "metadata": {},
   "source": [
    "  <br>"
   ]
  },
  {
   "cell_type": "markdown",
   "id": "c4b6c5eb-d2cf-452e-ab66-e95e5a678b02",
   "metadata": {},
   "source": [
    "<br>"
   ]
  },
  {
   "cell_type": "code",
   "execution_count": 39,
   "id": "aee7e3f2-91c0-4d78-9df0-d1be5b9e687a",
   "metadata": {},
   "outputs": [],
   "source": [
    "# Randomly shuffling the 3D array\n",
    "rng.shuffle(multi)"
   ]
  },
  {
   "cell_type": "code",
   "execution_count": 40,
   "id": "527d9a3e-3e6d-48c1-a0cd-b9bc17b79491",
   "metadata": {},
   "outputs": [
    {
     "data": {
      "text/plain": [
       "array([[3, 4, 0, 1, 4],\n",
       "       [2, 3, 4, 0, 0],\n",
       "       [0, 4, 4, 1, 2]], dtype=int64)"
      ]
     },
     "execution_count": 40,
     "metadata": {},
     "output_type": "execute_result"
    }
   ],
   "source": [
    "# New arrangement of the 3D array. *Note only order of matrixes changed\n",
    "multi"
   ]
  },
  {
   "cell_type": "markdown",
   "id": "0f21317e-33af-4557-97f8-dfa114b7d8b3",
   "metadata": {},
   "source": [
    "<br>"
   ]
  },
  {
   "cell_type": "markdown",
   "id": "b4ffdd80-de43-45dd-8e3d-3fdddeb3c209",
   "metadata": {},
   "source": [
    "<br>\n",
    "\n",
    "#### rng.permutation\n",
    "\n",
    "This method differs from random.shuffle in that it does not overwrite the orginal array, it returns a copy. Additionally, random.permutation does not shuffle in place i.e. it shuffles up to but not inculding the number passed to it. "
   ]
  },
  {
   "cell_type": "markdown",
   "id": "19116b3a-7d15-4c8d-bb8e-391448347597",
   "metadata": {},
   "source": [
    "<br>"
   ]
  },
  {
   "cell_type": "code",
   "execution_count": 42,
   "id": "a79168b7-3fb8-4da3-b460-d0ac3fddfbd9",
   "metadata": {},
   "outputs": [],
   "source": [
    "# Creating a randomly permuted array of elements up to 9\n",
    "orignal = rng.permutation(10)"
   ]
  },
  {
   "cell_type": "code",
   "execution_count": 43,
   "id": "9daef638-22da-41c5-bc60-e2bacad9be80",
   "metadata": {},
   "outputs": [
    {
     "data": {
      "text/plain": [
       "array([5, 9, 3, 6, 7, 1, 2, 8, 0, 4])"
      ]
     },
     "execution_count": 43,
     "metadata": {},
     "output_type": "execute_result"
    }
   ],
   "source": [
    "orignal"
   ]
  },
  {
   "cell_type": "markdown",
   "id": "bec3323f-e1c9-4fb6-986e-0d4bde27012b",
   "metadata": {},
   "source": [
    "  <br>"
   ]
  },
  {
   "cell_type": "markdown",
   "id": "0927e47e-cc48-4fc7-8c6f-01720227501a",
   "metadata": {},
   "source": [
    "<br>"
   ]
  },
  {
   "cell_type": "code",
   "execution_count": 45,
   "id": "d2376c47-903a-4385-bd89-108a0181e106",
   "metadata": {},
   "outputs": [],
   "source": [
    "# Permutating the order of the orignal order\n",
    "new = rng.permutation(orignal)"
   ]
  },
  {
   "cell_type": "code",
   "execution_count": 46,
   "id": "787d41bb-2de6-4ff6-978a-7d0a336c279a",
   "metadata": {},
   "outputs": [
    {
     "data": {
      "text/plain": [
       "array([2, 4, 7, 3, 5, 1, 8, 0, 6, 9])"
      ]
     },
     "execution_count": 46,
     "metadata": {},
     "output_type": "execute_result"
    }
   ],
   "source": [
    "# A copy of the orginal array in a different order.\n",
    "new"
   ]
  },
  {
   "cell_type": "markdown",
   "id": "d82f935d-21bd-4032-af57-84ad5876f8a8",
   "metadata": {},
   "source": [
    "<br>"
   ]
  },
  {
   "cell_type": "markdown",
   "id": "1f8aaed2-19e9-427c-b8d5-db974e8593bd",
   "metadata": {},
   "source": [
    "<br>"
   ]
  },
  {
   "cell_type": "code",
   "execution_count": 48,
   "id": "9af0cab9-d23c-42a3-a4ac-274049996f51",
   "metadata": {
    "tags": []
   },
   "outputs": [
    {
     "data": {
      "text/plain": [
       "array([5, 9, 3, 6, 7, 1, 2, 8, 0, 4])"
      ]
     },
     "execution_count": 48,
     "metadata": {},
     "output_type": "execute_result"
    }
   ],
   "source": [
    "# Showing that the order of the orignal order has not changed.\n",
    "orignal"
   ]
  },
  {
   "cell_type": "markdown",
   "id": "d52cb2aa-972b-4e34-8bdd-5f14991f62c4",
   "metadata": {},
   "source": [
    "<br>"
   ]
  },
  {
   "cell_type": "markdown",
   "id": "5d39c3bd-cf23-49e6-9c4d-7d3364c8df21",
   "metadata": {},
   "source": [
    "<br>"
   ]
  },
  {
   "cell_type": "markdown",
   "id": "35ca508a-6c66-4ba6-a565-1c4fabaf4b48",
   "metadata": {
    "tags": []
   },
   "source": [
    "#### rng.permuted\n",
    "\n",
    "Unlike shuffle, each slice along the given axis is shuffled independently of the others [39]. If no axis is specified, it is automatically shuffled on the x-axis.\n"
   ]
  },
  {
   "cell_type": "code",
   "execution_count": 50,
   "id": "a4178a53-0882-4df8-a2ff-0eb4502dc115",
   "metadata": {},
   "outputs": [],
   "source": [
    "# Creating a 3d array\n",
    "x =  rng.integers(5, size=(3,2))"
   ]
  },
  {
   "cell_type": "markdown",
   "id": "10499f8a-cc10-483e-bf7d-7caa9904d217",
   "metadata": {},
   "source": [
    "<br>"
   ]
  },
  {
   "cell_type": "code",
   "execution_count": 51,
   "id": "49599295-8797-4351-8ab4-91c3b4629b7a",
   "metadata": {},
   "outputs": [
    {
     "data": {
      "text/plain": [
       "array([[3, 0],\n",
       "       [3, 2],\n",
       "       [4, 4]], dtype=int64)"
      ]
     },
     "execution_count": 51,
     "metadata": {},
     "output_type": "execute_result"
    }
   ],
   "source": [
    "x"
   ]
  },
  {
   "cell_type": "markdown",
   "id": "72a7783f-3fd9-4f49-8156-157fe82f7714",
   "metadata": {},
   "source": [
    "<br>"
   ]
  },
  {
   "cell_type": "markdown",
   "id": "5b61a71e-be78-46f2-87d6-a6f23cc0dd97",
   "metadata": {},
   "source": [
    "<br>"
   ]
  },
  {
   "cell_type": "code",
   "execution_count": 53,
   "id": "9751f073-9818-4e02-a175-e47b46623444",
   "metadata": {},
   "outputs": [
    {
     "data": {
      "text/plain": [
       "array([[3, 3],\n",
       "       [4, 0],\n",
       "       [4, 2]], dtype=int64)"
      ]
     },
     "execution_count": 53,
     "metadata": {},
     "output_type": "execute_result"
    }
   ],
   "source": [
    "# Shuffling on the x-axis\n",
    "rng.permuted(x)"
   ]
  },
  {
   "cell_type": "markdown",
   "id": "e99f9b99-05a9-465f-b2d6-6bc58177db6d",
   "metadata": {},
   "source": [
    "  <br>"
   ]
  },
  {
   "cell_type": "markdown",
   "id": "256ce5db-b2a0-4f39-9002-770ce6e89d41",
   "metadata": {},
   "source": [
    "<br>"
   ]
  },
  {
   "cell_type": "code",
   "execution_count": 55,
   "id": "07532b5a-93e8-4c81-9a2a-fdd953ac4af7",
   "metadata": {},
   "outputs": [
    {
     "data": {
      "text/plain": [
       "array([[0, 3],\n",
       "       [2, 3],\n",
       "       [4, 4]], dtype=int64)"
      ]
     },
     "execution_count": 55,
     "metadata": {},
     "output_type": "execute_result"
    }
   ],
   "source": [
    "# Shuffling on the y-axis\n",
    "rng.permuted(x,axis=1)"
   ]
  },
  {
   "cell_type": "markdown",
   "id": "5949543e-0088-41fa-9fb8-8100f28f07ce",
   "metadata": {},
   "source": [
    "<br>"
   ]
  },
  {
   "cell_type": "markdown",
   "id": "42fd15e5-b070-4a8e-8323-cd97d5c1361f",
   "metadata": {},
   "source": [
    "<br>"
   ]
  },
  {
   "cell_type": "markdown",
   "id": "bc085657-38a6-419f-a516-e4f8aa64d7ef",
   "metadata": {},
   "source": [
    "<br>\n",
    "\n",
    "***\n",
    "\n",
    "## Distributions\n",
    "\n",
    "***"
   ]
  },
  {
   "cell_type": "markdown",
   "id": "30ea79e2-a4c7-494d-b7d1-c409d5735cbf",
   "metadata": {},
   "source": [
    "<br>"
   ]
  },
  {
   "cell_type": "markdown",
   "id": "81202d68-d99f-4443-87a3-f3de2d4e819a",
   "metadata": {},
   "source": [
    "The distribution of data obtained from a sample is pivitol in understanding how to analyse it. Probability distributions one of the corner stones of statistics. Understanding which probability distribution function fits your data is important for analysis. There are different probability distributions for different types of data. \n",
    "At the highest level, data can be broadly classified into 2 groups[11]:\n",
    "\n",
    "- Qualitative/Categorical data: This is data which answers questions such as \"what type?\". It deals with traits, characteristics, judgements and descriptions. e.g. male or female. Qualitative data contains subtypes. Nominal data, this is data that doesn't follow a pattern or sequence e.g. hair colour. The other subtype is ordinal data. This data can be ranked in decending or ascending order e.g. tooth pain on a scale of pain. This can be refered to binary data if only two cateogries are present e.g. yes/no. If there is more than two categories it is non binary data e.g. yes/no/maybe. [11].\n",
    "\n",
    "- Quantitative/Numerical data: is data which deals with objective measurements. e.g. height. It is data which can be counted. Quantitative data can be broken down into discrete data. This is data which is represented in whole numbers e.g. how many people are in the crowd. Continuous data is data which can take any value within a range e.g. a person height can be any value within the range of human heights [11]\n",
    "\n",
    "\n",
    "The 5 distributions we will look deeper at are: \n",
    "\n",
    "- Normal Distribution\n",
    "- Poisson Distribution\n",
    "- Binomial Distribution\n",
    "- Logistic Distribution\n",
    "- Uniform Distribution"
   ]
  },
  {
   "cell_type": "markdown",
   "id": "3499f15b-c5ad-40d3-b53f-8734f0de7966",
   "metadata": {},
   "source": [
    "<br>"
   ]
  },
  {
   "cell_type": "markdown",
   "id": "a7b14321-ac03-4715-86de-8d07eb79de66",
   "metadata": {},
   "source": [
    "<br>"
   ]
  },
  {
   "cell_type": "markdown",
   "id": "8ac507bb-703e-4b66-8543-7599ee540500",
   "metadata": {},
   "source": [
    "<br>"
   ]
  },
  {
   "cell_type": "markdown",
   "id": "391398f1-d5f7-4785-a68c-e7d277e26f9f",
   "metadata": {},
   "source": [
    "***\n",
    "## Poisson Distribution\n",
    "***\n",
    "Named after after French mathematician Siméon Denis Poisson, the Poisson distribution is a discrete probability distribution that expresses the probability of a given number of events occurring in a fixed interval of time or space if these events occur with a known constant mean rate and independently of the time since the last event.[12]  When the total number of occurrences of the event is unknown, we can think of it as a random variable. This random variable follows the Poisson Distribution. The Poisson distribution is a limiting case of the Binomial distribution when the number of trials becomes very large and the probability of success is small [13]. The Poisson distribution can also be used for the number of events in other specified intervals such as distance, area or volume.\n",
    "\n",
    "Features of a Poisson Process:\n",
    "- The important point is we know the average time between events but they are randomly spaced (stochastic). We might have back-to-back failures, but we could also go years between failures due to the randomness of the process.\n",
    "- A Poisson Process meets the following criteria (in reality many phenomena modeled as Poisson processes don’t meet these exactly):\n",
    "- Events are independent of each other. The occurrence of one event does not affect the probability another event will occur.\n",
    "- The average rate (events per time period) is constant.\n",
    "- Two events cannot occur at the same time [13]\n",
    "\n",
    "\n",
    "Examples:The number of patients arriving in an emergency room between 10 and 11 pm, Vistors to a website, calling a helpline.\n",
    "\n",
    "We need to apply the Poisson Distribution to a Poisson Process to do interesting things like finding the probability of a number of events in a time period or finding the probability of waiting some time until the next event.\n",
    "\n",
    "![img](images/poisson.PNG)\n",
    "\n",
    "\n",
    "- k: The number of occurrences of an event for which poisson distribution has to be found\n",
    "- λ: The expected number of event occurrences in the given interval\n",
    "- e: It is the Euler’s constant whose approximate value is 2.72.\n",
    "\n",
    "Parameters:\n",
    "\n",
    "- lam: It is a float value or an array of float values. The lam corresponds to the λ value in the poisson distribution formula. It denotes the expected number of event occurrences for a given time interval. Its value should be greater than or equal to zero since no event can occur a negative amount of times.\n",
    "\n",
    "- size: It is an optional parameter whose default value is ‘None’. For None, it will return a single value as a sample. If you pass any (x,y) value, then x * y samples will be drawn from the poisson distribution. If any other value n is passed, then n samples would be drawn from it. [14]"
   ]
  },
  {
   "cell_type": "markdown",
   "id": "bd6c7cfb-0add-4eb4-abe7-11623a7a7422",
   "metadata": {},
   "source": [
    "<br>"
   ]
  },
  {
   "cell_type": "code",
   "execution_count": 57,
   "id": "dd8de7bf-00ee-4ad4-8711-0d478d22259c",
   "metadata": {},
   "outputs": [],
   "source": [
    "# The frequency an event will occur 5 times.\n",
    "x = rng.poisson(5)"
   ]
  },
  {
   "cell_type": "code",
   "execution_count": 58,
   "id": "a2fc0bd8-94d8-4bdb-a14c-e6c941066a31",
   "metadata": {},
   "outputs": [
    {
     "data": {
      "text/plain": [
       "5"
      ]
     },
     "execution_count": 58,
     "metadata": {},
     "output_type": "execute_result"
    }
   ],
   "source": [
    "x"
   ]
  },
  {
   "cell_type": "markdown",
   "id": "e8db1093-df7a-49b7-a3dc-5684e560d830",
   "metadata": {},
   "source": [
    "  <br>"
   ]
  },
  {
   "cell_type": "code",
   "execution_count": 60,
   "id": "9134dd67-f594-4c0a-914b-967afefdf41d",
   "metadata": {
    "tags": []
   },
   "outputs": [
    {
     "data": {
      "text/plain": [
       "Text(0, 0.5, 'Frequency')"
      ]
     },
     "execution_count": 60,
     "metadata": {},
     "output_type": "execute_result"
    },
    {
     "data": {
      "image/png": "[encoded data removed]",
      "text/plain": [
       "<Figure size 1080x720 with 1 Axes>"
      ]
     },
     "metadata": {},
     "output_type": "display_data"
    }
   ],
   "source": [
    "# Plotting x\n",
    "plt.hist(x, alpha=0.8)\n",
    "plt.ylabel(\"Frequency\") # Label the y axis"
   ]
  },
  {
   "cell_type": "markdown",
   "id": "55ee6914-edd3-4bbf-8ecb-c43bedbe75ce",
   "metadata": {},
   "source": [
    "<br>"
   ]
  },
  {
   "cell_type": "markdown",
   "id": "af90e770-9696-472d-b512-940ddbe30636",
   "metadata": {},
   "source": [
    "  <br>"
   ]
  },
  {
   "cell_type": "code",
   "execution_count": 62,
   "id": "c8077909-8a38-4d45-93cf-70c2fc0180a3",
   "metadata": {},
   "outputs": [],
   "source": [
    "# Adding a size of 20. This means 20 samples will be taken.\n",
    "y = rng.poisson(5, 100)"
   ]
  },
  {
   "cell_type": "code",
   "execution_count": 63,
   "id": "5a46d7dc-0639-421a-b695-78e50fde330b",
   "metadata": {},
   "outputs": [
    {
     "data": {
      "text/plain": [
       "array([ 8,  7,  8,  4,  2,  2,  3,  4, 10,  7,  6,  9,  5, 11,  9,  1,  3,\n",
       "        4,  7,  0,  5,  6, 11,  5,  6,  0,  2,  9,  9,  2,  8,  7, 10,  5,\n",
       "        2,  3,  4, 10,  7,  3,  3,  5,  1,  5, 11,  4,  2,  6,  3,  7,  8,\n",
       "        2,  1,  2,  9,  4,  7,  5,  1,  1, 10,  5,  5,  6,  5,  4,  5,  6,\n",
       "        4,  3,  6,  4,  8,  4, 14,  7,  3,  3,  1,  8,  6,  5,  4,  5,  2,\n",
       "        5,  8,  7,  2,  2,  1,  6,  1,  3,  6,  4,  4,  4,  2,  2],\n",
       "      dtype=int64)"
      ]
     },
     "execution_count": 63,
     "metadata": {},
     "output_type": "execute_result"
    }
   ],
   "source": [
    "y"
   ]
  },
  {
   "cell_type": "markdown",
   "id": "1f4faa8c-7488-421a-958f-8fcfe50cbfc4",
   "metadata": {},
   "source": [
    "  <br>"
   ]
  },
  {
   "cell_type": "markdown",
   "id": "6ac955c5-e9ce-4fa0-a9de-882988f5122c",
   "metadata": {},
   "source": [
    "<br>"
   ]
  },
  {
   "cell_type": "code",
   "execution_count": 65,
   "id": "6b0b509f-4ad6-49f6-89d4-8dd921ec9ffd",
   "metadata": {},
   "outputs": [
    {
     "data": {
      "text/plain": [
       "Text(0, 0.5, 'Frequency')"
      ]
     },
     "execution_count": 65,
     "metadata": {},
     "output_type": "execute_result"
    },
    {
     "data": {
      "image/png": "[encoded data removed]",
      "text/plain": [
       "<Figure size 1080x720 with 1 Axes>"
      ]
     },
     "metadata": {},
     "output_type": "display_data"
    }
   ],
   "source": [
    "# Plotting y\n",
    "plt.hist(y, alpha=0.8)\n",
    "plt.ylabel(\"Frequency\") # Label the y axis"
   ]
  },
  {
   "cell_type": "markdown",
   "id": "43de4d4e-5241-43de-9b7d-e78b1fd794d9",
   "metadata": {},
   "source": [
    "<br>"
   ]
  },
  {
   "cell_type": "markdown",
   "id": "febeaff5-c630-4578-a240-9d43671c063e",
   "metadata": {},
   "source": [
    "<br>\n",
    "The same method can be applied to multidimensional arrays."
   ]
  },
  {
   "cell_type": "markdown",
   "id": "a64c1471-a314-44c1-9303-ae5e98a7f7a6",
   "metadata": {},
   "source": [
    "<br>"
   ]
  },
  {
   "cell_type": "markdown",
   "id": "dca09a6f-a571-4953-a4b3-657e5a933637",
   "metadata": {},
   "source": [
    "<br>"
   ]
  },
  {
   "cell_type": "code",
   "execution_count": 9,
   "id": "45634f19-54d5-41ac-9177-7d7599f41e57",
   "metadata": {},
   "outputs": [],
   "source": [
    "# Generating a multi dimeensional array with 16 samples to draw\n",
    "z = rng.poisson(2, (4, 4))"
   ]
  },
  {
   "cell_type": "code",
   "execution_count": 10,
   "id": "bcb8c935-d4c2-4530-8c13-7b24730cf7a7",
   "metadata": {},
   "outputs": [
    {
     "data": {
      "text/plain": [
       "array([[1, 1, 1, 2],\n",
       "       [0, 3, 2, 0],\n",
       "       [2, 3, 1, 0],\n",
       "       [4, 3, 3, 4]], dtype=int64)"
      ]
     },
     "execution_count": 10,
     "metadata": {},
     "output_type": "execute_result"
    }
   ],
   "source": [
    "z"
   ]
  },
  {
   "cell_type": "markdown",
   "id": "fa459cea-b196-4eb5-9b80-59c86faa3196",
   "metadata": {},
   "source": [
    "  <br>"
   ]
  },
  {
   "cell_type": "code",
   "execution_count": 11,
   "id": "bccf3e51-077f-4d62-8a3a-e689c55e3fba",
   "metadata": {},
   "outputs": [
    {
     "data": {
      "text/plain": [
       "Text(0, 0.5, 'Frequency')"
      ]
     },
     "execution_count": 11,
     "metadata": {},
     "output_type": "execute_result"
    },
    {
     "data": {
      "image/png": "[encoded data removed]",
      "text/plain": [
       "<Figure size 1080x720 with 1 Axes>"
      ]
     },
     "metadata": {},
     "output_type": "display_data"
    }
   ],
   "source": [
    "# Plotting Z\n",
    "plt.hist(z, bins=10)\n",
    "plt.title('Poisson Distribution')\n",
    "plt.ylabel(\"Frequency\") # Label the y axis"
   ]
  },
  {
   "cell_type": "markdown",
   "id": "baa9f73e-3196-4318-9dc8-1185653dfa7f",
   "metadata": {},
   "source": [
    "  <br>"
   ]
  },
  {
   "cell_type": "markdown",
   "id": "6bc3d6d5-1d7b-4404-aad9-4e8dc7564819",
   "metadata": {},
   "source": [
    "<br>"
   ]
  },
  {
   "cell_type": "code",
   "execution_count": 12,
   "id": "e3f8c91b-c661-4b17-9c22-6122f42d18ca",
   "metadata": {},
   "outputs": [
    {
     "data": {
      "text/plain": [
       "1.875"
      ]
     },
     "execution_count": 12,
     "metadata": {},
     "output_type": "execute_result"
    }
   ],
   "source": [
    "# Mean of samples drawn\n",
    "z.mean()"
   ]
  },
  {
   "cell_type": "markdown",
   "id": "811e59f4-f6ab-4465-a2fb-7524702792a0",
   "metadata": {},
   "source": [
    "<br>"
   ]
  },
  {
   "cell_type": "markdown",
   "id": "2c7fbc43-a9ae-4142-af8c-d40c997fe62b",
   "metadata": {},
   "source": [
    "  <br>"
   ]
  },
  {
   "cell_type": "code",
   "execution_count": 73,
   "id": "1173562a-a920-4b1e-9897-16a54909e74a",
   "metadata": {},
   "outputs": [],
   "source": [
    "q = rng.poisson(5, 10000)"
   ]
  },
  {
   "cell_type": "code",
   "execution_count": 74,
   "id": "17d59518-f2c4-44b6-90d6-09fc86c8936e",
   "metadata": {},
   "outputs": [
    {
     "data": {
      "text/plain": [
       "array([4, 8, 5, ..., 8, 7, 7], dtype=int64)"
      ]
     },
     "execution_count": 74,
     "metadata": {},
     "output_type": "execute_result"
    }
   ],
   "source": [
    "q"
   ]
  },
  {
   "cell_type": "markdown",
   "id": "382e3d98-135e-4c42-9dbe-ccf9bdd0fda4",
   "metadata": {},
   "source": [
    "<br>"
   ]
  },
  {
   "cell_type": "markdown",
   "id": "2a623580-9759-48c1-8ec4-40252b1c42fc",
   "metadata": {},
   "source": [
    "  <br>"
   ]
  },
  {
   "cell_type": "code",
   "execution_count": 75,
   "id": "4fc9878a-2d96-4e9d-9cdb-d9a25acbb883",
   "metadata": {},
   "outputs": [
    {
     "data": {
      "text/plain": [
       "Text(0.5, 1.0, 'Poisson Distribution')"
      ]
     },
     "execution_count": 75,
     "metadata": {},
     "output_type": "execute_result"
    },
    {
     "data": {
      "image/png": "[encoded data removed]",
      "text/plain": [
       "<Figure size 1080x720 with 1 Axes>"
      ]
     },
     "metadata": {},
     "output_type": "display_data"
    }
   ],
   "source": [
    "plt.hist(q, alpha=0.8)\n",
    "plt.title('Poisson Distribution')"
   ]
  },
  {
   "cell_type": "markdown",
   "id": "f3e8aa60-68b3-40a8-9b03-c05a9d76cae5",
   "metadata": {},
   "source": [
    "<br>"
   ]
  },
  {
   "cell_type": "markdown",
   "id": "11f0f3d5-7bce-406b-b316-7abddbb08c5b",
   "metadata": {},
   "source": [
    "<br>"
   ]
  },
  {
   "cell_type": "markdown",
   "id": "e23d8cad-d1a8-43ab-a4cc-8acba9addd7a",
   "metadata": {},
   "source": [
    "  <br>"
   ]
  },
  {
   "cell_type": "code",
   "execution_count": 76,
   "id": "5bcbf6bf-fbe3-41d2-bdc4-d5f2356de2a0",
   "metadata": {},
   "outputs": [
    {
     "data": {
      "text/plain": [
       "4.9918"
      ]
     },
     "execution_count": 76,
     "metadata": {},
     "output_type": "execute_result"
    }
   ],
   "source": [
    "q.mean()"
   ]
  },
  {
   "cell_type": "markdown",
   "id": "73d68fc8-64cc-444f-ae8d-3c94a3a818ad",
   "metadata": {},
   "source": [
    "  <br>"
   ]
  },
  {
   "cell_type": "markdown",
   "id": "cf603e10-d0c9-4c64-84e8-d81276634d1c",
   "metadata": {},
   "source": [
    "<br>"
   ]
  },
  {
   "cell_type": "markdown",
   "id": "b7130801-490d-4de8-b149-f086c6f0c524",
   "metadata": {},
   "source": [
    "We can also draw an equal amount of samples for two different values of lam, simultaneously. In this example, we shall be drawing 20 different sample values for two values of lam: λ = 10 and λ = 100. We will be passing lam argument in the form of (10,100) [14]."
   ]
  },
  {
   "cell_type": "markdown",
   "id": "71a96b1c-0bac-46c0-8d6a-e6ca772e673a",
   "metadata": {},
   "source": [
    "<br>"
   ]
  },
  {
   "cell_type": "markdown",
   "id": "14a9f49c-7452-4b4a-b6aa-f6233ad5ba73",
   "metadata": {},
   "source": [
    "  <br>"
   ]
  },
  {
   "cell_type": "code",
   "execution_count": 77,
   "id": "01fa7e34-1454-4b47-ad02-22219a80b6fd",
   "metadata": {},
   "outputs": [],
   "source": [
    "# Code taken from pythonpool\n",
    "r = rng.poisson((10, 100), (20,2))"
   ]
  },
  {
   "cell_type": "code",
   "execution_count": 78,
   "id": "066ac0dd-4c60-4732-bc68-2aa1a2df8804",
   "metadata": {},
   "outputs": [
    {
     "data": {
      "text/plain": [
       "array([[  6,  96],\n",
       "       [  9,  91],\n",
       "       [ 10, 107],\n",
       "       [ 10,  93],\n",
       "       [ 13, 122],\n",
       "       [ 15, 102],\n",
       "       [ 11, 107],\n",
       "       [ 13, 100],\n",
       "       [ 16,  85],\n",
       "       [ 11, 100],\n",
       "       [  8,  89],\n",
       "       [  9,  93],\n",
       "       [ 13,  94],\n",
       "       [ 13, 110],\n",
       "       [  9, 118],\n",
       "       [  9, 101],\n",
       "       [  9,  86],\n",
       "       [ 10,  85],\n",
       "       [ 10, 104],\n",
       "       [ 10, 111]], dtype=int64)"
      ]
     },
     "execution_count": 78,
     "metadata": {},
     "output_type": "execute_result"
    }
   ],
   "source": [
    "r"
   ]
  },
  {
   "cell_type": "markdown",
   "id": "ad5981f6-97df-46a8-a2f5-d9ad6a14b393",
   "metadata": {},
   "source": [
    "<br>"
   ]
  },
  {
   "cell_type": "markdown",
   "id": "262f6bd1-77ad-41bb-9df4-ffdb87b58ff8",
   "metadata": {},
   "source": [
    "<br>"
   ]
  },
  {
   "cell_type": "markdown",
   "id": "ebb6446d-7d91-4c65-b927-33fc81fb1ad2",
   "metadata": {},
   "source": [
    "  <br>"
   ]
  },
  {
   "cell_type": "code",
   "execution_count": 79,
   "id": "7410f77e-3d21-4e4c-b2b4-5ef236ca41c9",
   "metadata": {},
   "outputs": [
    {
     "data": {
      "text/plain": [
       "Text(0.5, 1.0, 'Poisson Distribution')"
      ]
     },
     "execution_count": 79,
     "metadata": {},
     "output_type": "execute_result"
    },
    {
     "data": {
      "image/png": "[encoded data removed]",
      "text/plain": [
       "<Figure size 1080x720 with 1 Axes>"
      ]
     },
     "metadata": {},
     "output_type": "display_data"
    }
   ],
   "source": [
    "plt.hist(r)\n",
    "plt.title('Poisson Distribution')"
   ]
  },
  {
   "cell_type": "markdown",
   "id": "2607124c-ae6e-49f0-a48e-9b457c2f3301",
   "metadata": {},
   "source": [
    "<br>"
   ]
  },
  {
   "cell_type": "markdown",
   "id": "d323a3b2-78a3-4447-91cd-9d1149f8cf1d",
   "metadata": {},
   "source": [
    "<br>"
   ]
  },
  {
   "cell_type": "markdown",
   "id": "c54cbee1-1e61-423e-b9c7-4de1470ccb3f",
   "metadata": {},
   "source": [
    "<br>"
   ]
  },
  {
   "cell_type": "markdown",
   "id": "7c85e895-335d-4b24-9140-326b28985647",
   "metadata": {},
   "source": [
    "<br>"
   ]
  },
  {
   "cell_type": "markdown",
   "id": "69520478-27fa-4939-99ad-d3ce36101887",
   "metadata": {
    "tags": []
   },
   "source": [
    "***\n",
    "## Binomial Distribution\n",
    "\n",
    "A binomial distribution derived from Bernoulli Process, can be thought of as probability of a success or failure outcome in an experiment which is repeated numerous times. The binomial distribution assumes that each experinment/event is independant of each other and that only two outcomes came occur, hence the word bi [15]. An example would be flipping a coin. The result can only be heads or tails, the chance of either appear is even. \n",
    "\n",
    "![img](images/binomial.PNG)\n",
    "\n",
    "\n",
    "- x: total number of successes\n",
    "- P: probability of a success in an individual trail\n",
    "- n: number of trails\n",
    "\n",
    "\n",
    "Parameters:\n",
    "\n",
    "- n: number of trials.\n",
    "- p: probability of occurence of each trial (e.g. for toss of a coin 0.5 each).\n",
    "- size: - The shape of the returned array. If size is None (default), a single value is returned if n and p are both scalars.\n",
    "\n",
    "Each result has a predefined probability of success. For a large number of repetition (size) and equal probability of winning (p=0.5) - e.g. coin toss - the result resembles a normal distribution.\n",
    "\n",
    "Binomial distributions must also meet the following criteria:\n",
    "\n",
    "- The number of observations or trials is fixed. In other words, you can only figure out the probability of something happening if you do it a certain number of times. This is common sense—if you toss a coin once, your probability of getting a tails is 50%. If you toss a coin a 20 times, your probability of getting a tails is very, very close to 100%.\n",
    "- Each observation or trial is independent. In other words, none of your trials have an effect on the probability of the next trial.\n",
    "- The probability of success (tails, heads, fail or pass) is exactly the same from one trial to another [16].\n",
    " \n",
    "\n",
    " \n",
    "Once you know that your distribution is binomial, you can apply the binomial distribution formula to calculate the probability "
   ]
  },
  {
   "cell_type": "markdown",
   "id": "5444735f-649a-4bc1-8159-e894e60c3791",
   "metadata": {},
   "source": [
    "<br>"
   ]
  },
  {
   "cell_type": "markdown",
   "id": "7accb991-6e6e-496e-92ec-9081e8c838c1",
   "metadata": {},
   "source": [
    "<br>"
   ]
  },
  {
   "cell_type": "code",
   "execution_count": 80,
   "id": "09c0307e-171a-4c44-bdc9-167c6d0b98e6",
   "metadata": {},
   "outputs": [],
   "source": [
    "# Results of flipping a coin 10 trails, with an even probabilty, tested 10000 times\n",
    "coin_toss = rng.binomial(n=10, p=0.5, size=100000)"
   ]
  },
  {
   "cell_type": "markdown",
   "id": "b2304a98-e571-4b58-abb4-9355cd6d9334",
   "metadata": {},
   "source": [
    "<br>"
   ]
  },
  {
   "cell_type": "markdown",
   "id": "d5aa9d2c-a117-419c-ae45-a52a10465036",
   "metadata": {},
   "source": [
    "![img](images/coin.jpg)"
   ]
  },
  {
   "cell_type": "markdown",
   "id": "2bc2255a-9545-434f-a343-1d820f114909",
   "metadata": {},
   "source": [
    "<br>"
   ]
  },
  {
   "cell_type": "code",
   "execution_count": 81,
   "id": "2b84eaa2-ea51-47f4-9af8-c08dbfdae947",
   "metadata": {},
   "outputs": [
    {
     "data": {
      "text/plain": [
       "array([2, 5, 4, ..., 4, 4, 7], dtype=int64)"
      ]
     },
     "execution_count": 81,
     "metadata": {},
     "output_type": "execute_result"
    }
   ],
   "source": [
    "coin_toss"
   ]
  },
  {
   "cell_type": "markdown",
   "id": "fcac6341-d1f3-48d2-9efc-67a55277b761",
   "metadata": {},
   "source": [
    "  <br>"
   ]
  },
  {
   "cell_type": "code",
   "execution_count": 82,
   "id": "6fe032c4-1d2d-41ec-b2e3-1407daeb7f09",
   "metadata": {},
   "outputs": [
    {
     "data": {
      "text/plain": [
       "Text(0.5, 0, '# of Trials')"
      ]
     },
     "execution_count": 82,
     "metadata": {},
     "output_type": "execute_result"
    },
    {
     "data": {
      "image/png": "[encoded data removed]",
      "text/plain": [
       "<Figure size 1080x720 with 1 Axes>"
      ]
     },
     "metadata": {},
     "output_type": "display_data"
    }
   ],
   "source": [
    "# Plotting the coin toss results\n",
    "plt.hist(coin_toss)\n",
    "\n",
    "plt.title('Binomial Distribution') # Adding a title\n",
    "plt.ylabel(\"Probability of Success\") #  y axis label\n",
    "plt.xlabel('# of Trials') # x axis label"
   ]
  },
  {
   "cell_type": "markdown",
   "id": "7afaeae4-7fa2-4c98-af67-53a4589a398e",
   "metadata": {},
   "source": [
    "<br>"
   ]
  },
  {
   "cell_type": "markdown",
   "id": "096d9fab-ed77-416f-8391-f900082699b0",
   "metadata": {},
   "source": [
    "<br>"
   ]
  },
  {
   "cell_type": "markdown",
   "id": "8fadaf77-31a1-408d-a6db-7a62701c11cf",
   "metadata": {},
   "source": [
    "<br>"
   ]
  },
  {
   "cell_type": "code",
   "execution_count": 83,
   "id": "b24c4868-fe48-4924-a7ba-9ad11e5456e7",
   "metadata": {},
   "outputs": [
    {
     "data": {
      "text/plain": [
       "5.00018"
      ]
     },
     "execution_count": 83,
     "metadata": {},
     "output_type": "execute_result"
    }
   ],
   "source": [
    "# Mean of the coin toss experiment \n",
    "coin_toss.mean()"
   ]
  },
  {
   "cell_type": "markdown",
   "id": "78ac9eb9-8a48-483e-8bb9-2979228c7a45",
   "metadata": {},
   "source": [
    "<br>"
   ]
  },
  {
   "cell_type": "markdown",
   "id": "f2f55958-b8c1-410f-ab6d-bceacbc81c68",
   "metadata": {},
   "source": [
    "As expected, around under half the time you choose heads or tails you will be correct. This is to be expected where probaility=0.5. When success and failure are equally likely, the binomial distribution is a normal distribution. Hence, changing the value of p to 0.5, we obtain this graph, which is identical to a normal distribution plot [16].\n",
    "\n",
    "If the probability of success is less than 0.5, the distribution is positively skewed i.e. the probabilities for x is greater for values below the expected value than above it. \n",
    "\n",
    "And if the probability of success is greater than 0.5, the distribution is negatively skewed — i.e. probabilities for X are greater for values above the expected value than below it [17].For example, if we had to choose between 10 boxes but we knew 8 of these boxes contained a prize. The probability of choosing a prize is greater\n"
   ]
  },
  {
   "cell_type": "markdown",
   "id": "10a33713-fdc9-438c-abe7-d0bc4acfd303",
   "metadata": {},
   "source": [
    "<br>"
   ]
  },
  {
   "cell_type": "markdown",
   "id": "1ea3e30b-5579-400d-a1bc-19f6c15f85e1",
   "metadata": {},
   "source": [
    "<br>"
   ]
  },
  {
   "cell_type": "code",
   "execution_count": 84,
   "id": "4f39c44c-5ba8-4a7e-a672-dff0c0948b22",
   "metadata": {},
   "outputs": [],
   "source": [
    "# Results of flipping a coin 10 trails, with a skewed probabilty, tested 10000 times\n",
    "pos = rng.binomial(n=10, p=0.2, size=100000)"
   ]
  },
  {
   "cell_type": "code",
   "execution_count": 85,
   "id": "bc27bc90-789c-4c35-8dc4-7be371833e4f",
   "metadata": {},
   "outputs": [
    {
     "data": {
      "text/plain": [
       "array([3, 2, 2, ..., 1, 2, 2], dtype=int64)"
      ]
     },
     "execution_count": 85,
     "metadata": {},
     "output_type": "execute_result"
    }
   ],
   "source": [
    "pos"
   ]
  },
  {
   "cell_type": "markdown",
   "id": "4300a2d8-530c-4856-a76e-251dea19936c",
   "metadata": {},
   "source": [
    "  <br>"
   ]
  },
  {
   "cell_type": "markdown",
   "id": "ba20019e-6e91-4cde-93cf-c63c02ed4067",
   "metadata": {},
   "source": [
    "<br>"
   ]
  },
  {
   "cell_type": "code",
   "execution_count": 86,
   "id": "7af33ba5-28a6-4757-b0bd-0bb1403ec43c",
   "metadata": {},
   "outputs": [
    {
     "data": {
      "text/plain": [
       "Text(0.5, 0, '# of Trials')"
      ]
     },
     "execution_count": 86,
     "metadata": {},
     "output_type": "execute_result"
    },
    {
     "data": {
      "image/png": "[encoded data removed]",
      "text/plain": [
       "<Figure size 1080x720 with 1 Axes>"
      ]
     },
     "metadata": {},
     "output_type": "display_data"
    }
   ],
   "source": [
    "# Plotting the coin toss results\n",
    "plt.hist(pos)\n",
    "\n",
    "plt.title('Binomial Distribution') # Adding a title\n",
    "plt.ylabel(\"Probability of Success\") #  y axis label\n",
    "plt.xlabel('# of Trials') # x axis label"
   ]
  },
  {
   "cell_type": "markdown",
   "id": "f87c5ed9-8fb4-4cc3-94e3-706e2bbdaa44",
   "metadata": {},
   "source": [
    "<br>"
   ]
  },
  {
   "cell_type": "markdown",
   "id": "55201676-500d-44bf-9d3f-576ed87b201a",
   "metadata": {},
   "source": [
    "  <br>"
   ]
  },
  {
   "cell_type": "code",
   "execution_count": 87,
   "id": "106c13a5-30d0-467f-bf21-8220645836e8",
   "metadata": {},
   "outputs": [
    {
     "data": {
      "text/plain": [
       "2.0038"
      ]
     },
     "execution_count": 87,
     "metadata": {},
     "output_type": "execute_result"
    }
   ],
   "source": [
    "# Mean of pos\n",
    "pos.mean()"
   ]
  },
  {
   "cell_type": "markdown",
   "id": "0d9dc927-8f7b-4a86-855f-6c43b0be272a",
   "metadata": {},
   "source": [
    "  <br>"
   ]
  },
  {
   "cell_type": "markdown",
   "id": "87b9889a-beca-481d-bd4e-922eb5381f8c",
   "metadata": {},
   "source": [
    "<br>"
   ]
  },
  {
   "cell_type": "code",
   "execution_count": 88,
   "id": "3065b7dc-ea93-481b-90ec-5ba1bb91cf50",
   "metadata": {},
   "outputs": [],
   "source": [
    "# Results of flipping a coin 10 trails, with a skewed probabilty, tested 10000 times\n",
    "neg = rng.binomial(n=10, p=0.8, size=100000)"
   ]
  },
  {
   "cell_type": "code",
   "execution_count": 89,
   "id": "f1e4ff36-dbcb-48ab-a6f4-0eed914f6fbb",
   "metadata": {},
   "outputs": [
    {
     "data": {
      "text/plain": [
       "array([ 9,  7,  8, ...,  8, 10,  8], dtype=int64)"
      ]
     },
     "execution_count": 89,
     "metadata": {},
     "output_type": "execute_result"
    }
   ],
   "source": [
    "neg"
   ]
  },
  {
   "cell_type": "markdown",
   "id": "275a5b28-5454-4ea8-9126-8b3ff3b87f3f",
   "metadata": {},
   "source": [
    "  <br>"
   ]
  },
  {
   "cell_type": "markdown",
   "id": "2f203c5c-7647-45bb-89ae-e70fb6215fec",
   "metadata": {},
   "source": [
    "<br>"
   ]
  },
  {
   "cell_type": "code",
   "execution_count": 90,
   "id": "a50798cb-074c-4d70-ac6e-0be925a96496",
   "metadata": {},
   "outputs": [
    {
     "data": {
      "text/plain": [
       "Text(0.5, 0, '# of Trials')"
      ]
     },
     "execution_count": 90,
     "metadata": {},
     "output_type": "execute_result"
    },
    {
     "data": {
      "image/png": "[encoded data removed]",
      "text/plain": [
       "<Figure size 1080x720 with 1 Axes>"
      ]
     },
     "metadata": {},
     "output_type": "display_data"
    }
   ],
   "source": [
    "# Plotting the coin toss results\n",
    "plt.hist(neg)\n",
    "\n",
    "plt.title('Binomial Distribution') # Adding a title\n",
    "plt.ylabel(\"Probability of Success\") #  y axis label\n",
    "plt.xlabel('# of Trials') # x axis label"
   ]
  },
  {
   "cell_type": "markdown",
   "id": "6d3c03fe-ea3d-4694-ba77-7c6516973a11",
   "metadata": {},
   "source": [
    "<br>"
   ]
  },
  {
   "cell_type": "markdown",
   "id": "e0591389-7763-45fd-9704-b0b503d5d935",
   "metadata": {},
   "source": [
    "  <br>"
   ]
  },
  {
   "cell_type": "code",
   "execution_count": 91,
   "id": "4925e53a-143c-40b1-8ce5-6e5e086816ae",
   "metadata": {},
   "outputs": [
    {
     "data": {
      "text/plain": [
       "8.00144"
      ]
     },
     "execution_count": 91,
     "metadata": {},
     "output_type": "execute_result"
    }
   ],
   "source": [
    "neg.mean()"
   ]
  },
  {
   "cell_type": "markdown",
   "id": "32bc58dc-6ded-4184-9fdc-ad4b645becc5",
   "metadata": {},
   "source": [
    "  <br>"
   ]
  },
  {
   "cell_type": "markdown",
   "id": "ce6f469a-f335-4d31-a707-dce1167476b1",
   "metadata": {},
   "source": [
    "<br>"
   ]
  },
  {
   "cell_type": "markdown",
   "id": "275916b9-54d7-4c1f-84c1-3de65030e276",
   "metadata": {},
   "source": [
    "The differences between binomial and poisson distribution can be drawn clearly on the following grounds:\n",
    "\n",
    "- The binomial distribution is one in which the probability of repeated number of trials is studied. A probability distribution that gives the count of a number of independent events occur randomly within a given period, is called probability distribution.\n",
    "- Binomial Distribution is biparametric, i.e. it is featured by two parameters n and p whereas Poisson distribution is uniparametric, i.e. characterised by a single parameter m.\n",
    "- There are a fixed number of attempts in the binomial distribution. On the other hand, an unlimited number of trials are there in a poisson distribution.\n",
    "- The success probability is constant in binomial distribution but in poisson distribution, there are an extremely small number of success chances.\n",
    "- In a binomial distribution, there are only two possible outcomes, i.e. success or failure. Conversely, there are an unlimited number of possible outcomes in the case of poisson distribution.\n",
    "- In binomial distribution Mean > Variance while in poisson distribution mean = variance [19]."
   ]
  },
  {
   "cell_type": "markdown",
   "id": "09520127-97f0-47ca-ac02-37481b571294",
   "metadata": {},
   "source": [
    "<br>"
   ]
  },
  {
   "cell_type": "markdown",
   "id": "47361549-fc01-4bbd-92d1-8352a38b53e6",
   "metadata": {},
   "source": [
    "<br>"
   ]
  },
  {
   "cell_type": "markdown",
   "id": "f56abd29-49f8-49a0-9a56-79ae9fc5b86c",
   "metadata": {},
   "source": [
    "<br>"
   ]
  },
  {
   "cell_type": "markdown",
   "id": "6a36fff1-3f07-4a34-b00e-e36d86e05b3b",
   "metadata": {},
   "source": [
    "***\n",
    "\n",
    "## Uniform Distribution\n",
    "\n",
    "\n",
    "A Uniform distribution refers to a type of probability distribution in which all outcomes are equally likely [19] e.g. rolling a dice, you have an equal chance of rolling 1 through 6. likely draw a heart, spade, diamond, clubs from a pack of cards.The concept of a uniform distribution, as well as the random variables it describes make up the skeleton of statistical analysis and probability theory.\n",
    "\n",
    "![img](images/dice.png)\n",
    "\n",
    "\n",
    "With the uniform distribution you provide the lower  and upper  bounds of the interval to specify the minimum (a) and maximum (b) possible values in the range. The smaller number provided will be taken as the lower bounds and the bigger number as the upper bound. Without providing an interval bounds, the function assumes a standard uniform distribution [20].\n",
    "\n",
    "There are two types of uniform distributions: \n",
    "\n",
    "- Discrete: Discrete uniform distributions have a finite number of outcomes. i.e. each has outcome has the same probability of occuring. e.g. heads or tails, the finate is 2 outcomes on a coin, rolling a 6 sided dice - The possible values would be 1, 2, 3, 4, 5, or 6. In this case, each of the six numbers has an equal chance of appearing. Therefore, each time the 6-sided die is thrown, each side has a chance of 1/6. It is impossible to get a value of 1.3, 4.2, or 5.7 when rolling a fair die. However, if another die is added and they are both thrown, the distribution that results is no longer uniform because the probability of the sums is not equal [21].\n",
    "\n",
    "![img](images/uniform_discrete.jpg)\n",
    "\n",
    "- Continuous: A Continuous uniform/rectangular distribution is a statistical distribution with an infinite number of equally likely measurable values. Unlike discrete random variables, a continuous random variable can take any real value within a specified range. A good example of a continuous uniform distribution is an idealized random number generator. With continuous uniform distribution, just like discrete uniform distribution, every variable has an equal chance of happening. However, there is an infinite number of points that can exist [21].\n",
    "\n",
    "\n",
    "\n",
    "![img](images/uniform_continuous.jpg)\n",
    "\n",
    "The uniform distribution is defined by two parameters, a and b:\n",
    "\n",
    "- Low: is the minimum.\n",
    "- High: is the maximum. \n",
    "- Size: if size is None (default), a single value is returned if low and high are both scalars\n",
    "\n",
    "When high == low, values of low will be returned. If high < low, the results are officially undefined and may eventually raise an error [22].\n",
    "\n",
    "<br>"
   ]
  },
  {
   "cell_type": "markdown",
   "id": "47255103-31a4-4228-adb1-b25333e2978d",
   "metadata": {},
   "source": [
    "<br>"
   ]
  },
  {
   "cell_type": "code",
   "execution_count": 92,
   "id": "3ea0f190-3df4-462b-89d5-21d5ab5a3e1e",
   "metadata": {
    "tags": []
   },
   "outputs": [
    {
     "data": {
      "text/plain": [
       "0.2911425359844062"
      ]
     },
     "execution_count": 92,
     "metadata": {},
     "output_type": "execute_result"
    }
   ],
   "source": [
    "# If the range is not defined, by default is [0,1]\n",
    "# A single random value in the interval [0,1]\n",
    "np.random.uniform() "
   ]
  },
  {
   "cell_type": "markdown",
   "id": "c6e281df-0554-454b-9e2b-0461ed63c515",
   "metadata": {},
   "source": [
    "<br>"
   ]
  },
  {
   "cell_type": "markdown",
   "id": "f2c313b6-cfed-4bfd-aee8-25e97aaf2110",
   "metadata": {},
   "source": [
    "  <br>"
   ]
  },
  {
   "cell_type": "code",
   "execution_count": 93,
   "id": "c4dfef18-b6fc-45cc-b1bb-82cff7afb413",
   "metadata": {},
   "outputs": [
    {
     "data": {
      "text/plain": [
       "5.775439860509405"
      ]
     },
     "execution_count": 93,
     "metadata": {},
     "output_type": "execute_result"
    }
   ],
   "source": [
    "# Defining a range\n",
    "# A single random value in the interval [-10,10]\n",
    "rng.uniform(-10, 10) "
   ]
  },
  {
   "cell_type": "markdown",
   "id": "6b422b94-1072-437b-b175-877d20b67e3a",
   "metadata": {},
   "source": [
    "<br>"
   ]
  },
  {
   "cell_type": "markdown",
   "id": "2b4c3d44-dca7-4ac4-a45e-1645b83402c9",
   "metadata": {},
   "source": [
    "  <br>"
   ]
  },
  {
   "cell_type": "code",
   "execution_count": 94,
   "id": "511ea812-ac92-468a-92ec-1a9524b3b947",
   "metadata": {
    "tags": []
   },
   "outputs": [
    {
     "data": {
      "text/plain": [
       "array([9.60632831, 8.69407901, 6.58618303, ..., 5.90064674, 5.1812084 ,\n",
       "       6.76019069])"
      ]
     },
     "execution_count": 94,
     "metadata": {},
     "output_type": "execute_result"
    }
   ],
   "source": [
    "# An array of 20 values in the interval [5,10] \n",
    "rng.uniform(5,10,2000) "
   ]
  },
  {
   "cell_type": "markdown",
   "id": "5a5b40e8-804d-492f-b4ca-d0b7a8ffe93e",
   "metadata": {},
   "source": [
    "<br>"
   ]
  },
  {
   "cell_type": "markdown",
   "id": "7de76780-248c-41ea-bf57-5be446134626",
   "metadata": {},
   "source": [
    "  <br>"
   ]
  },
  {
   "cell_type": "code",
   "execution_count": 95,
   "id": "b90479d8-09cf-453e-8b92-c0ed3bd64b98",
   "metadata": {},
   "outputs": [],
   "source": [
    "# The probility of rolling a number on a 6 sided dice, if done 100000 times.\n",
    "x = rng.uniform(1,7, 100000)"
   ]
  },
  {
   "cell_type": "code",
   "execution_count": 96,
   "id": "222c8f1e-0758-47e3-bfad-7e0866a679c1",
   "metadata": {},
   "outputs": [
    {
     "data": {
      "text/plain": [
       "array([5.89731471, 6.52247851, 3.32734975, ..., 1.16973186, 3.17101087,\n",
       "       5.88332086])"
      ]
     },
     "execution_count": 96,
     "metadata": {},
     "output_type": "execute_result"
    }
   ],
   "source": [
    "x"
   ]
  },
  {
   "cell_type": "markdown",
   "id": "9187b36e-6c92-4876-896e-34c8221e39b7",
   "metadata": {},
   "source": [
    "<br>"
   ]
  },
  {
   "cell_type": "markdown",
   "id": "1dd9534a-39ad-4e30-8d7f-265af754e394",
   "metadata": {},
   "source": [
    "  <br>"
   ]
  },
  {
   "cell_type": "code",
   "execution_count": 97,
   "id": "b7b742bd-8c34-46d1-8587-2af2f217deef",
   "metadata": {},
   "outputs": [
    {
     "data": {
      "text/plain": [
       "Text(0.5, 1.0, 'Uniform Distribution')"
      ]
     },
     "execution_count": 97,
     "metadata": {},
     "output_type": "execute_result"
    },
    {
     "data": {
      "image/png": "[encoded data removed]",
      "text/plain": [
       "<Figure size 1080x720 with 1 Axes>"
      ]
     },
     "metadata": {},
     "output_type": "display_data"
    }
   ],
   "source": [
    "# Plotting\n",
    "plt.hist(x, alpha=0.8)\n",
    "plt.title('Uniform Distribution')"
   ]
  },
  {
   "cell_type": "markdown",
   "id": "d9bd4f32-14a0-4f20-aa82-1942d2f62b8c",
   "metadata": {},
   "source": [
    "  <br>"
   ]
  },
  {
   "cell_type": "markdown",
   "id": "65053870-e47e-4a6c-942a-676bc20b58a0",
   "metadata": {},
   "source": [
    "<br>"
   ]
  },
  {
   "cell_type": "markdown",
   "id": "e573db1f-6989-4b39-86cb-be1abc1ad6d2",
   "metadata": {
    "tags": []
   },
   "source": [
    "<br>\n",
    "As you can see from the above plot, it mimics a rectangular shape. This is the calling card of a A  uniform distribution. We are almost as equally likely to roll 1, 2, 3, 4, 5, 6 on the dice. The more samples, the more equally the histogram. In the below plot we'll use a smaller sample size to show the difference.\n",
    "\n",
    "<br>\n"
   ]
  },
  {
   "cell_type": "markdown",
   "id": "755076b7-9e14-418c-90fb-dfc85d9e185a",
   "metadata": {},
   "source": [
    "<br>"
   ]
  },
  {
   "cell_type": "markdown",
   "id": "106d4202-6721-48a0-b662-3c202ab4e962",
   "metadata": {},
   "source": [
    "<br>"
   ]
  },
  {
   "cell_type": "code",
   "execution_count": 98,
   "id": "25545748-f54b-44c5-b24b-d879ec0c0c0e",
   "metadata": {},
   "outputs": [],
   "source": [
    "# The probility of rolling a number on a 6 sided dice, if done 10 times.\n",
    "r = rng.uniform(1,7, 10)"
   ]
  },
  {
   "cell_type": "code",
   "execution_count": 99,
   "id": "20ba77d2-c563-4c49-be43-a04b53f5ff16",
   "metadata": {},
   "outputs": [
    {
     "data": {
      "text/plain": [
       "array([3.86658962, 4.63592918, 2.76744482, 2.25044787, 2.30868698,\n",
       "       4.78900739, 2.00286077, 3.77494324, 2.23768925, 3.82715032])"
      ]
     },
     "execution_count": 99,
     "metadata": {},
     "output_type": "execute_result"
    }
   ],
   "source": [
    "r"
   ]
  },
  {
   "cell_type": "markdown",
   "id": "da052bee-7dbc-4b0b-9db3-34fb7240c519",
   "metadata": {},
   "source": [
    "  <br>"
   ]
  },
  {
   "cell_type": "code",
   "execution_count": 100,
   "id": "eaf4e78e-c8ca-4e9d-8d19-821f853919f1",
   "metadata": {},
   "outputs": [
    {
     "data": {
      "text/plain": [
       "Text(0.5, 1.0, 'Uniform Distribution')"
      ]
     },
     "execution_count": 100,
     "metadata": {},
     "output_type": "execute_result"
    },
    {
     "data": {
      "image/png": "[encoded data removed]",
      "text/plain": [
       "<Figure size 1080x720 with 1 Axes>"
      ]
     },
     "metadata": {},
     "output_type": "display_data"
    }
   ],
   "source": [
    "plt.hist(r, alpha=0.8)\n",
    "plt.title('Uniform Distribution')"
   ]
  },
  {
   "cell_type": "markdown",
   "id": "e2a0de5f-4ade-411f-bf5e-3d4fb45ed416",
   "metadata": {},
   "source": [
    "<br>"
   ]
  },
  {
   "cell_type": "markdown",
   "id": "97d8b133-1062-460c-b1df-e375c7393db1",
   "metadata": {},
   "source": [
    "<br>"
   ]
  },
  {
   "cell_type": "markdown",
   "id": "30be5470-7a38-42b0-9320-6e2573afdbb2",
   "metadata": {},
   "source": [
    "<br>"
   ]
  },
  {
   "cell_type": "markdown",
   "id": "bb6a9a32-a377-4caa-8f2d-218d4ad3b372",
   "metadata": {},
   "source": [
    "<br>"
   ]
  },
  {
   "cell_type": "markdown",
   "id": "6d105fbc-c3b9-4383-bc13-0ab0048af835",
   "metadata": {
    "tags": []
   },
   "source": [
    "***\n",
    "\n",
    "## Normal Distribution\n",
    "\n",
    "Normal distribution, also known as the Gaussian distribution,is a probability function used in statistics that tells about how the data values are distributed. It usually resembles a bell shaped curve. It is the most important probability distribution function used in statistics because of its advantages in real case scenarios. The normal distribution describes a common occurring distribution of samples influenced by a large or tiny, random distribution or which occurs often in nature [23]. For example, the height of the population. The normal distribution is symmetric about the mean i.e. showing that data near the mean are more frequent in occurrence than data far from the mean e.g. people are more likely to be in and around the average height than they are to be on the smaller or taller side.\n",
    "\n",
    "\n",
    "![img](images/normal_distribution.PNG)\n",
    "\n",
    "\n",
    "For a normal distribution, 68% of the observations are within +/- one standard deviation of the mean, 95% are within +/- two standard deviations, and 99.7% are within +- three standard deviations [24].\n",
    "\n",
    " ![img](images/normal_distribution_std.png)\n",
    " \n",
    "\n",
    "Characteristics of a normal distribution:\n",
    " - mean = median = mode\n",
    " - The normal distribution is the only distribution whose cumulants beyond the first two (i.e., other than the mean and variance) are 0\n",
    " - The mean is 0 and the standard deviation is 1 and has 0 skew.\n",
    " - 50% of values less than the mean and 50% greater than the mean\n",
    " - While normal distributions are symmetrical, not all symmetrical distributions are normal [25].\n",
    "\n",
    " \n",
    "The standard normal distribution has three parameters (none are mandatory): \n",
    "\n",
    "- loc: the mean\n",
    "- scale: the standard deviation\n",
    "- size: Output shape. If the given shape, if size is None (default), a single value is returned if loc and scale are both scalars\n"
   ]
  },
  {
   "cell_type": "markdown",
   "id": "90b0f951-6b6f-432f-be7b-05abbcab4abe",
   "metadata": {},
   "source": [
    "<br>"
   ]
  },
  {
   "cell_type": "markdown",
   "id": "ec87b52f-0f53-4bbd-99b5-023b8ec61093",
   "metadata": {},
   "source": [
    "<br>"
   ]
  },
  {
   "cell_type": "code",
   "execution_count": 101,
   "id": "0400ff35-bb46-40a1-b972-772c1687b370",
   "metadata": {},
   "outputs": [],
   "source": [
    "# Creating an array of heights within normal distribution from 100,000 samples\n",
    "height = rng.normal(1.75, 0.15, 100000)"
   ]
  },
  {
   "cell_type": "code",
   "execution_count": 102,
   "id": "9c2fc74b-27a2-4560-92de-d1f38be6dab3",
   "metadata": {},
   "outputs": [
    {
     "data": {
      "text/plain": [
       "array([1.61153485, 1.79811581, 1.73030151, ..., 1.775226  , 1.64169269,\n",
       "       1.96306212])"
      ]
     },
     "execution_count": 102,
     "metadata": {},
     "output_type": "execute_result"
    }
   ],
   "source": [
    "height"
   ]
  },
  {
   "cell_type": "markdown",
   "id": "1653ab5b-e793-42b6-bd95-efd8b38eec70",
   "metadata": {
    "tags": []
   },
   "source": [
    "  <br>"
   ]
  },
  {
   "cell_type": "markdown",
   "id": "cdf5eff1-b817-419f-8aed-22c2125046dd",
   "metadata": {},
   "source": [
    "<br>"
   ]
  },
  {
   "cell_type": "code",
   "execution_count": 103,
   "id": "e19a13ee-4ad1-4d4f-ae94-b849fd4b7361",
   "metadata": {},
   "outputs": [
    {
     "data": {
      "text/plain": [
       "1.1109016657670912"
      ]
     },
     "execution_count": 103,
     "metadata": {},
     "output_type": "execute_result"
    }
   ],
   "source": [
    "# Smallest persons height\n",
    "height.min()"
   ]
  },
  {
   "cell_type": "markdown",
   "id": "e14f0887-4c19-47b9-b2ec-0c0ab6d53bd2",
   "metadata": {},
   "source": [
    "  <br>"
   ]
  },
  {
   "cell_type": "markdown",
   "id": "602b8eff-c390-4000-ae33-aa60df36fb9e",
   "metadata": {},
   "source": [
    "<br>"
   ]
  },
  {
   "cell_type": "code",
   "execution_count": 104,
   "id": "33597790-d48e-452d-8815-bc13c8f5597d",
   "metadata": {},
   "outputs": [
    {
     "data": {
      "text/plain": [
       "2.3838128137043193"
      ]
     },
     "execution_count": 104,
     "metadata": {},
     "output_type": "execute_result"
    }
   ],
   "source": [
    "# The tallest persons height\n",
    "height.max()"
   ]
  },
  {
   "cell_type": "markdown",
   "id": "b15d5f51-6e8e-4cc6-bc96-91d02550bbfc",
   "metadata": {},
   "source": [
    "  <br>"
   ]
  },
  {
   "cell_type": "markdown",
   "id": "892e75aa-8805-47d6-8d9c-5d66137d63a5",
   "metadata": {},
   "source": [
    "<br>"
   ]
  },
  {
   "cell_type": "code",
   "execution_count": 105,
   "id": "8a62c8ee-4e96-49e1-b0fd-7810373ee1b3",
   "metadata": {},
   "outputs": [
    {
     "data": {
      "text/plain": [
       "Text(0.5, 0, 'Height')"
      ]
     },
     "execution_count": 105,
     "metadata": {},
     "output_type": "execute_result"
    },
    {
     "data": {
      "image/png": "[encoded data removed]",
      "text/plain": [
       "<Figure size 1080x720 with 1 Axes>"
      ]
     },
     "metadata": {},
     "output_type": "display_data"
    }
   ],
   "source": [
    "# Plotting the height sample\n",
    "plt.hist(height, bins=20)\n",
    "plt.title('Normal Distribution')\n",
    "plt.xlabel('Height')"
   ]
  },
  {
   "cell_type": "markdown",
   "id": "86e65198-8da7-43bc-ac5b-d74b477111e5",
   "metadata": {},
   "source": [
    "<br>"
   ]
  },
  {
   "cell_type": "markdown",
   "id": "f2feb546-1e53-40b2-94d1-d9b8d4ad0119",
   "metadata": {},
   "source": [
    "  <br>"
   ]
  },
  {
   "cell_type": "markdown",
   "id": "52788a0f-804c-4eec-abf8-976c2268f0fb",
   "metadata": {},
   "source": [
    "As we can see from the histogram above, it creates a bell shape. 50% of values are either side of the 1.75 mean. And the majority of those sampled fall within the average height, 1.75m."
   ]
  },
  {
   "cell_type": "markdown",
   "id": "ed7443e3-dbbc-410c-98d2-e3ce628115e0",
   "metadata": {},
   "source": [
    "<br>"
   ]
  },
  {
   "cell_type": "markdown",
   "id": "317c291a-3f02-4dd0-918a-aad70600ce6f",
   "metadata": {},
   "source": [
    "<br>"
   ]
  },
  {
   "cell_type": "markdown",
   "id": "2715afdf-1d1f-4170-8802-a896c02ab1f9",
   "metadata": {},
   "source": [
    "<br>"
   ]
  },
  {
   "cell_type": "markdown",
   "id": "23b5ca99-1bc6-405d-81a5-b24c65da9c49",
   "metadata": {
    "tags": []
   },
   "source": [
    "***\n",
    "\n",
    "## Logistic Distribution\n",
    "\n",
    "Logistic distribution is a continuous probability distribution. It's cumulative distribution function is the logistic function which appears in logistic regression and feedforward neural networks. It is used for modeling growth, and also used in logistic regression. It is a symmetrical distribution, unimodal (it has one peak) and is similar in shape to the normal distribution. Logistic distribution is used for sports and recently finanical modelling [26]. \n",
    "\n",
    "Some argue that the logistic distribution isn't the right choice for modeling lifetime data as the left-hand limit of the distribution extends into negative infinity. This could result in modeling negative times-to-failure. However, provided that the distribution in  has a relatively high mean and a relatively small location parameter, the issue of negative failure times should not be a problem [27].\n",
    "\n",
    "![img](images/logistic_distribution.jpg)\n",
    "\n",
    "Parameters of Logistic distribution:\n",
    "\n",
    "- The location parameter (μ) tells you where it’s centered on the x-axis.\n",
    "- The scale parameter (σ) tells you what the spread is. In the above equation, s is a scale parameter proportional to the standard deviation [28].\n",
    "\n"
   ]
  },
  {
   "cell_type": "markdown",
   "id": "7b5b75a7-a83f-4a40-8553-1872530237fc",
   "metadata": {},
   "source": [
    "<br>"
   ]
  },
  {
   "cell_type": "markdown",
   "id": "1ed8b63d-4015-4149-b2c4-3418762aaac0",
   "metadata": {},
   "source": [
    "<br>"
   ]
  },
  {
   "cell_type": "code",
   "execution_count": 106,
   "id": "58c4d769-02e5-482b-aba7-e5f26d80b9da",
   "metadata": {},
   "outputs": [],
   "source": [
    "# Generating a array of random numbers in the logistic distribution\n",
    "x = rng.logistic(20, 20 ,size=10000)"
   ]
  },
  {
   "cell_type": "code",
   "execution_count": 107,
   "id": "2e6d1702-4aa4-4671-a93e-c24cc38be938",
   "metadata": {},
   "outputs": [
    {
     "data": {
      "text/plain": [
       "array([ 17.18011301,  68.50132817,  51.02639207, ...,  21.0692812 ,\n",
       "       -23.920347  ,  79.97691251])"
      ]
     },
     "execution_count": 107,
     "metadata": {},
     "output_type": "execute_result"
    }
   ],
   "source": [
    "x"
   ]
  },
  {
   "cell_type": "markdown",
   "id": "b766774c-909c-421d-89e1-0153b9d18aae",
   "metadata": {},
   "source": [
    "<br>"
   ]
  },
  {
   "cell_type": "markdown",
   "id": "bad4eb97-fa3f-4194-a55d-eb86e0f7522b",
   "metadata": {},
   "source": [
    "  <br>"
   ]
  },
  {
   "cell_type": "code",
   "execution_count": 108,
   "id": "a451f7e8-3034-43db-ab82-439c951f39d1",
   "metadata": {},
   "outputs": [
    {
     "data": {
      "text/plain": [
       "Text(0.5, 1.0, 'Logistic Distribution')"
      ]
     },
     "execution_count": 108,
     "metadata": {},
     "output_type": "execute_result"
    },
    {
     "data": {
      "image/png": "[encoded data removed]",
      "text/plain": [
       "<Figure size 1080x720 with 1 Axes>"
      ]
     },
     "metadata": {},
     "output_type": "display_data"
    }
   ],
   "source": [
    "# PLotting the array\n",
    "plt.hist(x, bins =20)\n",
    "plt.title('Logistic Distribution')"
   ]
  },
  {
   "cell_type": "markdown",
   "id": "43cd7ed9-060b-45ac-bc4c-28955cd4c62c",
   "metadata": {},
   "source": [
    "<br>"
   ]
  },
  {
   "cell_type": "markdown",
   "id": "8b2e6af4-abf2-4fe5-b6ad-9b76af188fa2",
   "metadata": {},
   "source": [
    "<br>"
   ]
  },
  {
   "cell_type": "markdown",
   "id": "8b93665b-aa52-49b5-a50a-d7883a98ce18",
   "metadata": {},
   "source": [
    "<br>\n",
    "Logistic distributiont is symmetrical, unimodal i.e. has one peak and is very similar in shape to the the normal distribution. The major distingushing characteristic between the two distributions is that, the logistic distribution has wider tails than a normal distribution so it is more consistent with the underlying data and provides better insight into the likelihood of extreme events [29]. Let's visualise the difference below. \n",
    "<br>"
   ]
  },
  {
   "cell_type": "markdown",
   "id": "b21bd908-6dd2-4faf-8f0b-80a449418bc5",
   "metadata": {},
   "source": [
    "<br>"
   ]
  },
  {
   "cell_type": "markdown",
   "id": "1576fac8-9905-413c-88e8-5a080e9c9164",
   "metadata": {},
   "source": [
    "<br>"
   ]
  },
  {
   "cell_type": "code",
   "execution_count": 109,
   "id": "51ad7056-3aac-40c3-98ec-fe910115cf04",
   "metadata": {},
   "outputs": [
    {
     "data": {
      "text/plain": [
       "Text(0.5, 1.0, 'Normal Distribution')"
      ]
     },
     "execution_count": 109,
     "metadata": {},
     "output_type": "execute_result"
    },
    {
     "data": {
      "image/png": "[encoded data removed]",
      "text/plain": [
       "<Figure size 360x360 with 1 Axes>"
      ]
     },
     "metadata": {},
     "output_type": "display_data"
    }
   ],
   "source": [
    "# Following two pieces of code are taken from W3 schools\n",
    "# Normal distribution \n",
    "\n",
    "a = sns.displot(rng.normal(scale=2, size=1000), label='normal', kde=True)\n",
    "plt.title('Normal Distribution')"
   ]
  },
  {
   "cell_type": "markdown",
   "id": "84b0b8d4-3b80-41b9-9e5d-8a07c872d09d",
   "metadata": {},
   "source": [
    "<br>"
   ]
  },
  {
   "cell_type": "markdown",
   "id": "d91fb0cc-caa2-4930-8d3c-104f8e0d4a10",
   "metadata": {},
   "source": [
    "<br>"
   ]
  },
  {
   "cell_type": "code",
   "execution_count": 110,
   "id": "97c18098-4859-4aa9-b7d7-1417c821b2c0",
   "metadata": {},
   "outputs": [
    {
     "data": {
      "text/plain": [
       "Text(0.5, 1.0, 'Logistic Distribution')"
      ]
     },
     "execution_count": 110,
     "metadata": {},
     "output_type": "execute_result"
    },
    {
     "data": {
      "image/png": "[encoded data removed]",
      "text/plain": [
       "<Figure size 360x360 with 1 Axes>"
      ]
     },
     "metadata": {},
     "output_type": "display_data"
    }
   ],
   "source": [
    "# Logistic distribution\n",
    "b = sns.displot(rng.logistic(size=1000), label='logistic', kde= True)\n",
    "plt.title('Logistic Distribution')"
   ]
  },
  {
   "cell_type": "markdown",
   "id": "2a2e1a9c-28af-4d96-a579-536d3f738030",
   "metadata": {},
   "source": [
    "<br>"
   ]
  },
  {
   "cell_type": "markdown",
   "id": "dbdc19a6-5d35-4c75-818e-d83407cc6669",
   "metadata": {},
   "source": [
    "As we can see from the above, both distributions are almost identical, but the logistic distribution has more area under the tails. This means that it can show more possibility of an occurence of an events further away from mean.\n"
   ]
  },
  {
   "cell_type": "markdown",
   "id": "cdedd626-ed38-4f12-be99-b8a296c20a2f",
   "metadata": {},
   "source": [
    "<br>"
   ]
  },
  {
   "cell_type": "markdown",
   "id": "2fe3e699-927d-4653-820d-5ab7882760bf",
   "metadata": {},
   "source": [
    "<br>"
   ]
  },
  {
   "cell_type": "markdown",
   "id": "d606f964-69ff-42fc-bd56-6c5a4985c119",
   "metadata": {
    "tags": []
   },
   "source": [
    "***\n",
    "\n",
    "## Seed\n",
    "\n",
    "***"
   ]
  },
  {
   "cell_type": "markdown",
   "id": "6bcd3380-c1da-409f-8dd5-118ece28c29a",
   "metadata": {},
   "source": [
    "<br>"
   ]
  },
  {
   "cell_type": "markdown",
   "id": "2fede291-a6a7-484e-bf93-d9bc10278f01",
   "metadata": {},
   "source": [
    "The methods commonly used to generate random numbers is not a truly random processes. True randomness is hard to achieve, so we employ pseudorandomness instead. This numbers are refered to as psuedo-random numbers. While pseudorandom numbers appear to be genuinely random, they are  generated by a deterministic process i.e. a system in which no randomness is involved. This is because computers are deterministic and follow instructions to the low. If you give a certain input, it will percisely follow instruction. Hence the use of psuedo-random number gerenators [30]. \n",
    "\n",
    "A random number generator is an algorithm that, based on an initial seed, produces a sequence of seemlying random numbers[31].\n",
    "\n",
    "The generated sequence is not truly random, because it is determined by the initial seed value. The numbers they produce have properties that approximate the properties of random numbers. Although, these numbers are decided by an algorithm, for the most part there is no pattern in their choosing, hence making them appear truly random.\n",
    "\n",
    "Psuedo-Random numbers (PRNG) and random  bit  generators(RGB) are fundamental in many areas. In  stochastic simulation, PRNGs  are employed to copy the behavior of a random  variable  with a  given probability distribution [32]. PRNGs are algorithms that use mathematical formulae or simply precalculated tables to produce sequences of numbers that appear random. \n",
    "\n",
    "Characteristics of PRNG:\n",
    "\n",
    "- Efficient: PRNG can produce many numbers in a short time and is advantageous for applications that need many numbers\n",
    "- Deterministic: A given sequence of numbers can be reproduced at a later date if the starting point in the sequence is known.Determinism is handy if you need to replay the same sequence of numbers again at a later stage.\n",
    "- Periodic: PRNGs are periodic, which means that the sequence will eventually repeat itself. While periodicity is hardly ever a desirable characteristic, modern PRNGs have a period that is so long that it can be ignored for most practical purposes [30].\n"
   ]
  },
  {
   "cell_type": "markdown",
   "id": "e4f8f313-0ddd-4ac1-9fe6-5a64920a38a1",
   "metadata": {},
   "source": [
    "<br>"
   ]
  },
  {
   "cell_type": "markdown",
   "id": "2915b5c9-6f75-4128-a72e-a655cbebaf82",
   "metadata": {},
   "source": [
    "<br>"
   ]
  },
  {
   "cell_type": "markdown",
   "id": "6ce612b0-3245-4846-9257-abecf4b9ab6c",
   "metadata": {
    "tags": []
   },
   "source": [
    "#### (PCG-64) Seed Examples\n",
    "[PCG-64 Seed Documentation]('https://numpy.org/doc/stable/reference/random/generator.html')"
   ]
  },
  {
   "cell_type": "code",
   "execution_count": 111,
   "id": "45338dda-b644-4739-9bd7-3fa6763cb52c",
   "metadata": {},
   "outputs": [
    {
     "data": {
      "text/plain": [
       "Generator(PCG64) at 0x1DC170B8D60"
      ]
     },
     "execution_count": 111,
     "metadata": {},
     "output_type": "execute_result"
    }
   ],
   "source": [
    "# Randomly setting the seed\n",
    "rng = np.random.default_rng(seed=0)\n",
    "rng"
   ]
  },
  {
   "cell_type": "markdown",
   "id": "9c0f717d-8d93-482b-92ba-65fa4e0dd3a9",
   "metadata": {},
   "source": [
    "  <br>"
   ]
  },
  {
   "cell_type": "code",
   "execution_count": 112,
   "id": "174ae05c-84c7-420f-9589-d33b32a6ad8b",
   "metadata": {},
   "outputs": [
    {
     "data": {
      "text/plain": [
       "array([4, 3, 2, 1, 1, 0, 0, 0, 0, 4], dtype=int64)"
      ]
     },
     "execution_count": 112,
     "metadata": {},
     "output_type": "execute_result"
    }
   ],
   "source": [
    "# Randomly generating 10 numbers between 0 - 4\n",
    "rng.integers(0,5,10)"
   ]
  },
  {
   "cell_type": "markdown",
   "id": "62d349cf-023e-4aed-be60-7d9472e16623",
   "metadata": {},
   "source": [
    "  <br>"
   ]
  },
  {
   "cell_type": "code",
   "execution_count": 113,
   "id": "e51a003f-c9cb-4d9a-8525-d2e1d3e5c5c9",
   "metadata": {},
   "outputs": [
    {
     "data": {
      "text/plain": [
       "array([3, 4, 2, 3, 4, 3, 3, 2, 2, 4], dtype=int64)"
      ]
     },
     "execution_count": 113,
     "metadata": {},
     "output_type": "execute_result"
    }
   ],
   "source": [
    "# Repeating the above generation with a randomly set seed\n",
    "rng.integers(0,5,10)"
   ]
  },
  {
   "cell_type": "markdown",
   "id": "1ee1b0d4-5730-4997-80d4-278390451643",
   "metadata": {},
   "source": [
    "  <br>"
   ]
  },
  {
   "cell_type": "markdown",
   "id": "0a8ce784-5aa5-43ab-8610-539bd05f03d4",
   "metadata": {},
   "source": [
    "As we can see from the above there is seemingly no pattern in both arrays. This is a result of leaving the seed blank. \n",
    "\n",
    "But pseudo-random numbers can be replicated exactly. PRNG's are repeatable because of their deterministic nature. This is often used when testing or sharing code [30].\n",
    "\n",
    "np.random.default_rng allows us to determine the vaule of the seed which generates these pseudo-random numbers. Let's reapeat the above code but, this time assigning a vaule to the seed"
   ]
  },
  {
   "cell_type": "markdown",
   "id": "893e8c86-9720-45e3-835b-bf05ac5ad288",
   "metadata": {},
   "source": [
    "  <br>"
   ]
  },
  {
   "cell_type": "code",
   "execution_count": 114,
   "id": "f21a4eb7-9213-45cc-9190-770622a7df46",
   "metadata": {},
   "outputs": [],
   "source": [
    "# Setting the seed as 5\n",
    "rng = np.random.default_rng(seed=5)\n",
    "\n",
    "# Randomly generating 10 numbers between 0 - 4\n",
    "a = rng.integers(0,5,10)"
   ]
  },
  {
   "cell_type": "code",
   "execution_count": 115,
   "id": "65b6a155-6ea0-4365-8279-ca3b6974c7e8",
   "metadata": {},
   "outputs": [
    {
     "data": {
      "text/plain": [
       "array([3, 4, 0, 4, 2, 2, 3, 1, 4, 0], dtype=int64)"
      ]
     },
     "execution_count": 115,
     "metadata": {},
     "output_type": "execute_result"
    }
   ],
   "source": [
    "a"
   ]
  },
  {
   "cell_type": "markdown",
   "id": "3aef09a4-5ca1-4be5-9aba-af5d5503b7ff",
   "metadata": {},
   "source": [
    "  <br>"
   ]
  },
  {
   "cell_type": "code",
   "execution_count": 116,
   "id": "26903d8d-ca3a-4512-ae93-0f5b7a36e0cf",
   "metadata": {},
   "outputs": [],
   "source": [
    "# Repeating the above generations \n",
    "rng = np.random.default_rng(seed=5)\n",
    "b = rng.integers(0,5,10)"
   ]
  },
  {
   "cell_type": "code",
   "execution_count": 117,
   "id": "4e23df4b-608f-4af2-ba5d-934804bac826",
   "metadata": {},
   "outputs": [
    {
     "data": {
      "text/plain": [
       "array([3, 4, 0, 4, 2, 2, 3, 1, 4, 0], dtype=int64)"
      ]
     },
     "execution_count": 117,
     "metadata": {},
     "output_type": "execute_result"
    }
   ],
   "source": [
    "b"
   ]
  },
  {
   "cell_type": "markdown",
   "id": "662cb247-e52d-45cb-b3d4-c848712d86aa",
   "metadata": {},
   "source": [
    "  <br>"
   ]
  },
  {
   "cell_type": "markdown",
   "id": "2f9ebcd3-504d-46e7-9c08-0bffb728b622",
   "metadata": {},
   "source": [
    "By specifying a seed in the above examples, it enables us to replicate the results."
   ]
  },
  {
   "cell_type": "markdown",
   "id": "49c23b5d-ffc7-4e75-adc3-73afa802ff4c",
   "metadata": {},
   "source": [
    "  <br>"
   ]
  },
  {
   "cell_type": "markdown",
   "id": "22bec5e3-6979-4361-aeeb-b40aa9333b42",
   "metadata": {},
   "source": [
    "<br>"
   ]
  },
  {
   "cell_type": "markdown",
   "id": "990d56a0-bbf5-4604-8a64-bd73d067ecfb",
   "metadata": {
    "tags": []
   },
   "source": [
    "#### Legacy (MT19937) Seed Examples\n",
    "\n",
    "[MT19937 Seed Documentation]('https://numpy.org/doc/stable/reference/random/generator.html')"
   ]
  },
  {
   "cell_type": "markdown",
   "id": "c2b79052-7b3e-4eb2-9502-a9471cac6ba9",
   "metadata": {},
   "source": [
    "<br>"
   ]
  },
  {
   "cell_type": "code",
   "execution_count": 118,
   "id": "509d0752-a286-459d-a92c-7c9c2be8cd1e",
   "metadata": {},
   "outputs": [],
   "source": [
    "# Randomly setting the seed\n",
    "np.random.seed()"
   ]
  },
  {
   "cell_type": "code",
   "execution_count": 119,
   "id": "8bb840ac-3dde-4aea-988d-9f0f7185bf79",
   "metadata": {},
   "outputs": [
    {
     "data": {
      "text/plain": [
       "array([0, 3, 0, 3, 4, 4, 2, 0, 3, 3])"
      ]
     },
     "execution_count": 119,
     "metadata": {},
     "output_type": "execute_result"
    }
   ],
   "source": [
    "# Randomly generating 10 numbers between 0 - 4\n",
    "np.random.randint(0,5,10)"
   ]
  },
  {
   "cell_type": "markdown",
   "id": "babb9145-9673-485e-b257-ed02a48065f9",
   "metadata": {},
   "source": [
    "  <br>"
   ]
  },
  {
   "cell_type": "code",
   "execution_count": 120,
   "id": "e2aa342c-70a8-4f46-bf8e-fd47098ac187",
   "metadata": {},
   "outputs": [
    {
     "data": {
      "text/plain": [
       "array([1, 0, 0, 3, 4, 2, 2, 1, 1, 4])"
      ]
     },
     "execution_count": 120,
     "metadata": {},
     "output_type": "execute_result"
    }
   ],
   "source": [
    "# Repeating the above generation\n",
    "# Randomly setting the seed\n",
    "np.random.seed()\n",
    "\n",
    "# Randomly generating 10 numbers between 0 - 4\n",
    "np.random.randint(0,5,10)"
   ]
  },
  {
   "cell_type": "markdown",
   "id": "6af85214-d53b-41a0-b231-02392523f251",
   "metadata": {},
   "source": [
    "  <br>"
   ]
  },
  {
   "cell_type": "code",
   "execution_count": 121,
   "id": "7869ae36-c7cf-461d-a910-147a0cae73ea",
   "metadata": {},
   "outputs": [
    {
     "data": {
      "text/plain": [
       "array([3, 0, 1, 0, 4, 3, 0, 0, 4, 1])"
      ]
     },
     "execution_count": 121,
     "metadata": {},
     "output_type": "execute_result"
    }
   ],
   "source": [
    "# Setting the seed as 5\n",
    "np.random.seed(5)\n",
    "# \"Randomly\" generating 10 numbers between 0 - 4\n",
    "np.random.randint(0,5,10)"
   ]
  },
  {
   "cell_type": "markdown",
   "id": "4bb46696-aeff-4da0-8a93-8fd47a35553f",
   "metadata": {},
   "source": [
    "  <br>"
   ]
  },
  {
   "cell_type": "code",
   "execution_count": 122,
   "id": "690a0376-74a7-4e89-bd3a-2c11ff48a77d",
   "metadata": {},
   "outputs": [
    {
     "data": {
      "text/plain": [
       "array([3, 0, 1, 0, 4, 3, 0, 0, 4, 1])"
      ]
     },
     "execution_count": 122,
     "metadata": {},
     "output_type": "execute_result"
    }
   ],
   "source": [
    "# Repeating the above generation\n",
    "np.random.seed(5)\n",
    "np.random.randint(0,5,10)"
   ]
  },
  {
   "cell_type": "markdown",
   "id": "49aa6ef1-7092-4c78-95ba-2fe726e92dee",
   "metadata": {},
   "source": [
    "<br>"
   ]
  },
  {
   "cell_type": "markdown",
   "id": "eaaa6d7a-0489-4a61-ad36-b857c2bc5dcd",
   "metadata": {},
   "source": [
    "<br>"
   ]
  },
  {
   "cell_type": "markdown",
   "id": "131b6743-7cc6-451f-a50d-f9cff59d0a0d",
   "metadata": {
    "tags": []
   },
   "source": [
    "***\n",
    "\n",
    "## References\n",
    "\n",
    "***"
   ]
  },
  {
   "cell_type": "markdown",
   "id": "b20dd204-c277-4e74-9666-3d45aebccc5e",
   "metadata": {
    "tags": []
   },
   "source": [
    "[1].\tWhat is NumPy? — NumPy v1.21 Manual [Internet]. Numpy.org. [cited 2021 Oct 19]. Available from: https://numpy.org/doc/stable/user/whatisnumpy.html\n",
    " \t \n",
    "[2]\tPajankar A. Introduction to NumPy. In: Raspberry Pi Supercomputing and Scientific Programming. Berkeley, CA: Apress; 2017. p. 109–28.\n",
    " \t \n",
    "[3].\tBisong E. NumPy. In: Building Machine Learning and Deep Learning Models on Google Cloud Platform. Berkeley, CA: Apress; 2019. p. 91–113.\n",
    " \t \n",
    "[4]\tPython R. NumPy tutorial: Your first steps into data science in Python [Internet]. Realpython.com. Real Python; 2021 [cited 2021 Oct 19]. Available from: https://realpython.com/numpy-tutorial/\n",
    " \t \n",
    "[5]\tWikipedia contributors. Applications of randomness [Internet]. Wikipedia, The Free Encyclopedia. 2021 [cited 2021 Oct 19]. Available from: https://en.wikipedia.org/w/index.php?title=Applications_of_randomness&oldid=1016893073\n",
    " \t \n",
    "[6]\tRandom Numbers in NumPy [Internet]. W3schools.com. [cited 2021 Oct 19]. Available from: https://www.w3schools.com/python/numpy/numpy_random.asp\n",
    " \t \n",
    "[7]\tMcKinney W. Python for Data Analysis: Data wrangling with pandas, NumPy, and IPython. Sebastopol, CA: O’Reilly Media; 2012.\n",
    " \t \n",
    "[8]\tDifferences between numpy.random.rand vs numpy.random.randn in Python [Internet]. Stackoverflow.com. [cited 2021 Oct 19]. Available from: https://stackoverflow.com/questions/47240308/differences-between-numpy-random-rand-vs-numpy-random-randn-in-python\n",
    " \t \n",
    "[9]\tLohana A. NumPy Random Choice: How to use it? [Internet]. Codeleaks.io. 2021 [cited 2021 Oct 19]. Available from: https://www.codeleaks.io/numpy-random-choice-python/\n",
    " \t \n",
    "[10]\tWikipedia contributors. Permutation [Internet]. Wikipedia, The Free Encyclopedia. 2021 [cited 2021 Oct 19]. Available from: https://en.wikipedia.org/w/index.php?title=Permutation&oldid=1050569920\n",
    " \t \n",
    "[11]\tRanganathan P, Gogtay NJ. An Introduction to Statistics - Data Types, distributions and Summarizing Data. Indian J Crit Care Med. 2019;23(Suppl 2):S169–70.\n",
    " \t \n",
    "[12]\tM SL, T TM, F HS, editors. Poisson Distribution. Betascript Publishing; 2013.\n",
    " \t \n",
    "[13]\tKoehrsen W. The Poisson distribution and Poisson process explained [Internet]. Towards Data Science. 2019 [cited 2021 Oct 19]. Available from: https://towardsdatascience.com/the-poisson-distribution-and-poisson-process-explained-4e2cb17d459\n",
    " \t \n",
    "[14]\tDiving into python’s numpy random Poisson [Internet]. Pythonpool.com. 2021 [cited 2021 Oct 19]. Available from: https://www.pythonpool.com/numpy-random-poisson/\n",
    " \t \n",
    "[15]\tBinomial Distribution: Formula, What it is, How to use it [Internet]. Statisticshowto.com. 2018 [cited 2021 Oct 19]. Available from: https://www.statisticshowto.com/probability-and-statistics/binomial-theorem/binomial-distribution-formula/\n",
    " \t \n",
    "[16]\tPython - Binomial Distribution - GeeksforGeeks [Internet]. Geeksforgeeks.org. 2020 [cited 2021 Oct 19]. Available from: https://www.geeksforgeeks.org/python-binomial-distribution/\n",
    " \t \n",
    "[17]\tHow to Graph the Binomial Distribution - dummies [Internet]. Dummies.com. 2016 [cited 2021 Oct 19]. Available from: https://www.dummies.com/education/math/business-statistics/how-to-graph-the-binomial-distribution/\n",
    " \t \n",
    "[18]\tSurbhi S. Difference between binomial and Poisson distribution [Internet]. Keydifferences.com. 2016 [cited 2021 Oct 19]. Available from: https://keydifferences.com/difference-between-binomial-and-poisson-distribution.html\n",
    " \t \n",
    "[19]\tChen J. Uniform Distribution [Internet]. Investopedia.com. 2021 [cited 2021 Oct 19]. Available from: https://www.investopedia.com/terms/u/uniform-distribution.asp\n",
    " \t \n",
    "[20]\tParametric continuous distributions [Internet]. Analytica.com. [cited 2021 Oct 19]. Available from: http://wiki.analytica.com/Parametric_continuous_distributions\n",
    " \t \n",
    "[21]\tUniform distribution [Internet]. Corporatefinanceinstitute.com. 2020 [cited 2021 Oct 19]. Available from: https://corporatefinanceinstitute.com/resources/knowledge/other/uniform-distribution/\n",
    " \t \n",
    "[22]\tnumpy.random.uniform — NumPy v1.16 Manual [Internet]. Numpy.org. [cited 2021 Oct 19]. Available from: https://numpy.org/doc/1.16/reference/generated/numpy.random.uniform.html\n",
    " \t \n",
    "[23]\tWikipedia contributors. Normal distribution [Internet]. Wikipedia, The Free Encyclopedia. 2021 [cited 2021 Oct 19]. Available from: https://en.wikipedia.org/w/index.php?title=Normal_distribution&oldid=1049556144\n",
    " \t \n",
    "[24]\tChen J. Normal Distribution [Internet]. Investopedia.com. 2021 [cited 2021 Oct 19]. Available from: https://www.investopedia.com/terms/n/normaldistribution.asp\n",
    " \t \n",
    "[25]\tPatel JK, B. C. Handbook of the normal distribution, second edition. 2nd ed. Boca Raton, FL: CRC Press; 1996.\n",
    " \t \n",
    "[26]\tKissell R, Poserina J. Advanced Math and Statistics. In: Optimal Sports Math, Statistics, and Fantasy. Elsevier; 2017. p. 103–35.\n",
    " \t \n",
    "[27]\tReliaSoft Publishing. Overview of the Gumbel, Logistic, Loglogistic and Gumbel distributions [Internet]. Weibull.com. [cited 2021 Oct 19]. Available from: https://www.weibull.com/hotwire/issue56/relbasics56.htm\n",
    " \t \n",
    "[28]\tStephanie. Logistic distribution [Internet]. Statisticshowto.com. 2016 [cited 2021 Oct 19]. Available from: https://www.statisticshowto.com/logistic-distribution/\n",
    " \t \n",
    "[29]\tLogistic Distribution [Internet]. W3schools.com. [cited 2021 Oct 19]. Available from: https://www.w3schools.com/python/numpy/numpy_random_logistic.asp\n",
    " \t \n",
    "[30]\tEbner J. NumPy random seed, explained [Internet]. Sharpsightlabs.com. 2019 [cited 2021 Oct 19]. Available from: https://www.sharpsightlabs.com/blog/numpy-random-seed/\n",
    " \t \n",
    "[31]\tPseudo random number generator (PRNG) [Internet]. Geeksforgeeks.org. 2017 [cited 2021 Oct 19]. Available from: https://www.geeksforgeeks.org/pseudo-random-number-generator-prng/\n",
    " \t \n",
    "[32]\tVajargah BF, Asghari R. A novel pseudo-random number generator for cryptographic applications. Indian J Sci Technol. 2016;9(6):1–5.\n",
    " \t  \n",
    "[33]\tPermuted Congruential Generator (64-bit, PCG64) — NumPy v1.21 Manual [Internet]. Numpy.org. [cited 2021 Oct 19]. Available from: https://numpy.org/doc/stable/reference/random/bit_generators/pcg64.html\n",
    " \t \n",
    "[34]\tWikipedia contributors. Permuted congruential generator [Internet]. Wikipedia, The Free Encyclopedia. 2021 [cited 2021 Oct 19]. Available from: https://en.wikipedia.org/w/index.php?title=Permuted_congruential_generator&oldid=999160939\n",
    " \t \n",
    "[35]\tShema M. Seven deadliest web application attacks [Internet]. Syngress Publishing; 2010 [cited 2021 Oct 20]. Available from: https://www.sciencedirect.com/book/9781597495431/seven-deadliest-web-application-attacks\n",
    " \t \n",
    "[36]\tWikipedia contributors. Mersenne Twister [Internet]. Wikipedia, The Free Encyclopedia. 2021 [cited 2021 Oct 20]. Available from: https://en.wikipedia.org/w/index.php?title=Mersenne_Twister&oldid=1049043226\n",
    " \t \n",
    "[37]\tRandom sampling (numpy.random) — NumPy v1.18 Manual [Internet]. Numpy.org. [cited 2021 Oct 20]. Available from: https://numpy.org/doc/1.18/reference/random/index.html\n",
    " \t \n",
    "[38]\tRandom Generator — NumPy v1.18 Manual [Internet]. Numpy.org. [cited 2021 Oct 20]. Available from: https://numpy.org/doc/1.18/reference/random/generator.html\n",
    " \t \n",
    "\n"
   ]
  },
  {
   "cell_type": "markdown",
   "id": "17ba469b-a971-468d-8e7d-b0a768e3f1c7",
   "metadata": {},
   "source": [
    "<br>"
   ]
  },
  {
   "cell_type": "markdown",
   "id": "73436d2f-18c0-43cc-b4c3-1b1b12190142",
   "metadata": {},
   "source": [
    "#### Images\n",
    "\n",
    "- [Numpy Logo](https://www.google.com/imgres?imgurl=https%3A%2F%2Ftwilio-cms-prod.s3.amazonaws.com%2Fimages%2Fjupyter_python_numpy.width-808.png&imgrefurl=https%3A%2F%2Fwww.twilio.com%2Fblog%2F2017%2F10%2Fbasic-statistics-python-numpy-jupyter-notebook.html&tbnid=J-fIWc88mja7tM&vet=12ahUKEwjhxO29p9fzAhUSWhUIHVGKDuQQMygJegUIARDCAQ..i&docid=VNux2Dk9hmRbWM&w=800&h=200&itg=1&q=numpy%20logo&ved=2ahUKEwjhxO29p9fzAhUSWhUIHVGKDuQQMygJegUIARDCAQ)\n",
    " \t\n",
    "- [PCG vs MT19937 ](https://www.pcg-random.org/index.htmlhttps://www.pcg-random.org/index.html)\n",
    " \t\n",
    "- [Permutations](https://www.w3resource.com/w3r_images/csharp-recursion-image-exercise-11.png)\n",
    " \t\n",
    "- [Matrix](https://3xedigital.com/wp-content/uploads/2016/03/Red-Pill-Vs-Blue-Pill.png)\n",
    " \t\n",
    "- [Coin](https://www.google.com/url?sa=i&url=https%3A%2F%2Ffree3d.com%2F3d-model%2F2-euro-coin-italy-4150.html&psig=AOvVaw3914ZDmMJJRuMCZL_bZdBl&ust=1634761631572000&source=images&cd=vfe&ved=0CAsQjRxqFwoTCPjQmeen1_MCFQAAAAAdAAAAABAL)\n",
    " \t\n",
    "- [Dice](https://static.wikia.nocookie.net/game-of-dice/images/c/cb/White_Dice.png/revision/latest?cb=20160113233423)\n",
    " \t\n",
    "- [Std Rule](https://blogs.sas.com/content/iml/files/2019/07/rule6895.png)"
   ]
  },
  {
   "cell_type": "markdown",
   "id": "934221fa-3442-40ef-b013-d8e8cfc2de97",
   "metadata": {},
   "source": [
    "<br>"
   ]
  },
  {
   "cell_type": "markdown",
   "id": "bf53021f-fda0-4914-bb49-04b0f25fbe02",
   "metadata": {},
   "source": [
    "<br>"
   ]
  },
  {
   "cell_type": "markdown",
   "id": "8171bf7a-abee-49cf-aaeb-88129061f3ae",
   "metadata": {},
   "source": [
    "***\n",
    "\n",
    "# End\n",
    "\n",
    "***"
   ]
  }
 ],
 "metadata": {
  "kernelspec": {
   "display_name": "Python 3 (ipykernel)",
   "language": "python",
   "name": "python3"
  },
  "language_info": {
   "codemirror_mode": {
    "name": "ipython",
    "version": 3
   },
   "file_extension": ".py",
   "mimetype": "text/x-python",
   "name": "python",
   "nbconvert_exporter": "python",
   "pygments_lexer": "ipython3",
   "version": "3.8.11"
  }
 },
 "nbformat": 4,
 "nbformat_minor": 5
}
